{
 "cells": [
  {
   "cell_type": "code",
   "execution_count": 3,
   "metadata": {},
   "outputs": [],
   "source": [
    "import sys\n",
    "sys.path.append('..')\n",
    "import os\n",
    "import shutil\n",
    "import numpy as np\n",
    "from tqdm import tqdm\n",
    "from tqdm.contrib.concurrent import process_map\n",
    "import matplotlib.pyplot as plt\n",
    "import PIL\n",
    "from PIL import Image\n",
    "import random\n",
    "import seaborn as sns\n",
    "import pandas as pd\n",
    "import pickle\n",
    "\n",
    "from multiprocess import Pool\n",
    "from program.helper import *\n",
    "from program.mlp_optimization import *\n",
    "from program.utility import *\n",
    "\n",
    "import torch\n",
    "from torchvision.datasets import ImageFolder\n",
    "from torchvision.transforms import Compose, Resize, CenterCrop, ToTensor, Normalize\n",
    "from torch.utils.data import DataLoader\n",
    "from torchvision.transforms.functional import to_pil_image\n",
    "import torch.nn as nn\n",
    "import torch.nn.functional as F\n",
    "import torch.optim as optim\n",
    "\n",
    "from sklearn.metrics import confusion_matrix\n",
    "from sklearn.metrics import accuracy_score, precision_score\n",
    "from sklearn.model_selection import KFold"
   ]
  },
  {
   "cell_type": "code",
   "execution_count": 4,
   "metadata": {},
   "outputs": [],
   "source": [
    "with open('../program/label_translator.pkl', 'rb') as pkl_file:\n",
    "    label_translator = pickle.load(pkl_file)"
   ]
  },
  {
   "cell_type": "markdown",
   "metadata": {},
   "source": [
    "## Pre-Processing"
   ]
  },
  {
   "cell_type": "code",
   "execution_count": 5,
   "metadata": {},
   "outputs": [],
   "source": [
    "# Define a Composal of image transformation used for image load\n",
    "transform_images = Compose([Resize((227, 227)), \n",
    "                            ToTensor(),\n",
    "                            Normalize(mean=[0.485, 0.456, 0.406], std=[0.229, 0.224, 0.225])])"
   ]
  },
  {
   "cell_type": "code",
   "execution_count": 9,
   "metadata": {},
   "outputs": [],
   "source": [
    "train_data = ImageFolder(\"../data/train\", transform=transform_images)\n",
    "test_data = ImageFolder(\"../data/test\", transform=transform_images)"
   ]
  },
  {
   "cell_type": "code",
   "execution_count": 10,
   "metadata": {},
   "outputs": [],
   "source": [
    "dataloader_train = DataLoader(train_data, batch_size=150, shuffle=True, \n",
    "                              num_workers=24, pin_memory=True)\n",
    "dataloader_test = DataLoader(test_data, batch_size=150, shuffle=True, \n",
    "                             num_workers=24, pin_memory=True)"
   ]
  },
  {
   "cell_type": "markdown",
   "metadata": {},
   "source": [
    "# S4: Anwendung Regularisierung\n",
    "\n",
    "Anwendung von Dropout"
   ]
  },
  {
   "cell_type": "code",
   "execution_count": 11,
   "metadata": {},
   "outputs": [],
   "source": [
    "from networks import DropOutNetwork, FlatAlexNetOpt"
   ]
  },
  {
   "cell_type": "code",
   "execution_count": 16,
   "metadata": {},
   "outputs": [
    {
     "name": "stdout",
     "output_type": "stream",
     "text": [
      "==================== Calculation for p = 0 ====================\n"
     ]
    },
    {
     "name": "stderr",
     "output_type": "stream",
     "text": [
      "Epoch: 50/50 // Running Loss: 13.25 // Accuracy: 0.653 : 100%|██████████| 8500/8500 [16:11<00:00,  8.75it/s]  \n",
      "Calculate Acc. on Train Data: 100%|██████████| 170/170 [00:19<00:00,  8.91it/s]\n",
      "Calculate Acc. on Test Data: 100%|██████████| 19/19 [00:03<00:00,  5.63it/s]\n"
     ]
    },
    {
     "name": "stdout",
     "output_type": "stream",
     "text": [
      "==================== Calculation for p = 0.1 ====================\n"
     ]
    },
    {
     "name": "stderr",
     "output_type": "stream",
     "text": [
      "Epoch: 50/50 // Running Loss: 13.188 // Accuracy: 0.622 : 100%|██████████| 8500/8500 [16:13<00:00,  8.73it/s] \n",
      "Calculate Acc. on Train Data: 100%|██████████| 170/170 [00:18<00:00,  8.95it/s]\n",
      "Calculate Acc. on Test Data: 100%|██████████| 19/19 [00:03<00:00,  5.41it/s]\n"
     ]
    },
    {
     "name": "stdout",
     "output_type": "stream",
     "text": [
      "==================== Calculation for p = 0.25 ====================\n"
     ]
    },
    {
     "name": "stderr",
     "output_type": "stream",
     "text": [
      "Epoch: 50/50 // Running Loss: 31.087 // Accuracy: 0.573 : 100%|██████████| 8500/8500 [16:16<00:00,  8.70it/s]  \n",
      "Calculate Acc. on Train Data: 100%|██████████| 170/170 [00:19<00:00,  8.92it/s]\n",
      "Calculate Acc. on Test Data: 100%|██████████| 19/19 [00:03<00:00,  5.51it/s]\n"
     ]
    },
    {
     "name": "stdout",
     "output_type": "stream",
     "text": [
      "==================== Calculation for p = 0.5 ====================\n"
     ]
    },
    {
     "name": "stderr",
     "output_type": "stream",
     "text": [
      "Epoch: 50/50 // Running Loss: 120.997 // Accuracy: 0.442 : 100%|██████████| 8500/8500 [16:15<00:00,  8.72it/s]\n",
      "Calculate Acc. on Train Data: 100%|██████████| 170/170 [00:19<00:00,  8.85it/s]\n",
      "Calculate Acc. on Test Data: 100%|██████████| 19/19 [00:03<00:00,  5.76it/s]\n"
     ]
    }
   ],
   "source": [
    "# Calculate for dropout\n",
    "losses, metrics = {}, {}\n",
    "for p in [0, .1, .25, .5]:\n",
    "    print(20*'=', f'Calculation for p = {p}', 20*'=')\n",
    "    drop_out_model = DropOutNetwork(n_classes=28, p_drop_out=p)\n",
    "    criterion = nn.CrossEntropyLoss()\n",
    "    optimizer = optim.SGD(drop_out_model.parameters(),  lr=.01, momentum=.95)\n",
    "    dtype = torch.float32\n",
    "    drop_out_model, drop_loss = train_network(model=drop_out_model, criterion=criterion, \n",
    "                                              optimizer=optimizer, n_epochs=50, \n",
    "                                              dataloader_train=dataloader_train)\n",
    "    drop_out_metrics = calculate_metrics(model=drop_out_model, dl_train=dataloader_train, \n",
    "                                         dl_test=dataloader_test)\n",
    "    losses['DropOut_'+str(p)] = drop_loss\n",
    "    metrics['DropOut_'+str(p)] = drop_out_metrics"
   ]
  },
  {
   "cell_type": "code",
   "execution_count": 19,
   "metadata": {},
   "outputs": [
    {
     "data": {
      "image/png": "[encoded data removed]",
      "text/plain": [
       "<Figure size 720x360 with 1 Axes>"
      ]
     },
     "metadata": {},
     "output_type": "display_data"
    }
   ],
   "source": [
    "sma = 50\n",
    "tmp = pd.DataFrame.from_dict(losses)\n",
    "tmp.columns = [col.split('_')[-1] for col in tmp.columns]\n",
    "tmp = tmp.reset_index()\n",
    "\n",
    "for col in tmp.columns:\n",
    "    tmp[col] = tmp[col].rolling(sma).mean()\n",
    "tmp = tmp.melt(id_vars='index')\n",
    "\n",
    "fig = plt.subplots(figsize=(10, 5))\n",
    "sns.set_style('whitegrid')\n",
    "sns.set_palette('Paired')\n",
    "p = sns.lineplot(data=tmp, x='index', y='value', hue='variable')\n",
    "p.set_title(f'Loss over Mini-Batches with Dropout Regularization / SMA={sma}', loc='left')\n",
    "p.set_xlabel('Batches')\n",
    "p.set_ylabel('Cross-Entropy Loss')\n",
    "plt.legend(title='Dropout p-Value:')\n",
    "p.set_xlim(left=-5)\n",
    "p.set_ylim(bottom=0)\n",
    "plt.savefig('S4_dropout_regularization')\n",
    "plt.show()"
   ]
  },
  {
   "cell_type": "code",
   "execution_count": 20,
   "metadata": {},
   "outputs": [
    {
     "data": {
      "text/html": [
       "<div>\n",
       "<style scoped>\n",
       "    .dataframe tbody tr th:only-of-type {\n",
       "        vertical-align: middle;\n",
       "    }\n",
       "\n",
       "    .dataframe tbody tr th {\n",
       "        vertical-align: top;\n",
       "    }\n",
       "\n",
       "    .dataframe thead th {\n",
       "        text-align: right;\n",
       "    }\n",
       "</style>\n",
       "<table border=\"1\" class=\"dataframe\">\n",
       "  <thead>\n",
       "    <tr style=\"text-align: right;\">\n",
       "      <th></th>\n",
       "      <th>accuracy</th>\n",
       "      <th>precision</th>\n",
       "      <th>set</th>\n",
       "      <th>dropout</th>\n",
       "    </tr>\n",
       "  </thead>\n",
       "  <tbody>\n",
       "    <tr>\n",
       "      <th>0</th>\n",
       "      <td>0.982407</td>\n",
       "      <td>0.982621</td>\n",
       "      <td>Train</td>\n",
       "      <td>0</td>\n",
       "    </tr>\n",
       "    <tr>\n",
       "      <th>1</th>\n",
       "      <td>0.218188</td>\n",
       "      <td>0.224599</td>\n",
       "      <td>Test</td>\n",
       "      <td>0</td>\n",
       "    </tr>\n",
       "    <tr>\n",
       "      <th>2</th>\n",
       "      <td>0.985634</td>\n",
       "      <td>0.985901</td>\n",
       "      <td>Train</td>\n",
       "      <td>0.1</td>\n",
       "    </tr>\n",
       "    <tr>\n",
       "      <th>3</th>\n",
       "      <td>0.217483</td>\n",
       "      <td>0.206567</td>\n",
       "      <td>Test</td>\n",
       "      <td>0.1</td>\n",
       "    </tr>\n",
       "    <tr>\n",
       "      <th>4</th>\n",
       "      <td>0.98776</td>\n",
       "      <td>0.987809</td>\n",
       "      <td>Train</td>\n",
       "      <td>0.25</td>\n",
       "    </tr>\n",
       "    <tr>\n",
       "      <th>5</th>\n",
       "      <td>0.219598</td>\n",
       "      <td>0.223577</td>\n",
       "      <td>Test</td>\n",
       "      <td>0.25</td>\n",
       "    </tr>\n",
       "    <tr>\n",
       "      <th>6</th>\n",
       "      <td>0.935611</td>\n",
       "      <td>0.938263</td>\n",
       "      <td>Train</td>\n",
       "      <td>0.5</td>\n",
       "    </tr>\n",
       "    <tr>\n",
       "      <th>7</th>\n",
       "      <td>0.213253</td>\n",
       "      <td>0.203134</td>\n",
       "      <td>Test</td>\n",
       "      <td>0.5</td>\n",
       "    </tr>\n",
       "  </tbody>\n",
       "</table>\n",
       "</div>"
      ],
      "text/plain": [
       "   accuracy precision    set dropout\n",
       "0  0.982407  0.982621  Train       0\n",
       "1  0.218188  0.224599   Test       0\n",
       "2  0.985634  0.985901  Train     0.1\n",
       "3  0.217483  0.206567   Test     0.1\n",
       "4   0.98776  0.987809  Train    0.25\n",
       "5  0.219598  0.223577   Test    0.25\n",
       "6  0.935611  0.938263  Train     0.5\n",
       "7  0.213253  0.203134   Test     0.5"
      ]
     },
     "execution_count": 20,
     "metadata": {},
     "output_type": "execute_result"
    }
   ],
   "source": [
    "tmp = pd.DataFrame.from_dict(metrics).T\n",
    "tmp = pd.concat([tmp['accuracy'].explode(), tmp['precision'].explode()], axis=1)\n",
    "tmp['set'] = ['Train' if i %2 == 0 else 'Test' for i in range(tmp.shape[0])]\n",
    "tmp['dropout'] = [idx.split('_')[-1] for idx in tmp.index]\n",
    "tmp = tmp.reset_index(drop=True)\n",
    "tmp"
   ]
  },
  {
   "cell_type": "code",
   "execution_count": 35,
   "metadata": {},
   "outputs": [
    {
     "data": {
      "text/html": [
       "<div>\n",
       "<style scoped>\n",
       "    .dataframe tbody tr th:only-of-type {\n",
       "        vertical-align: middle;\n",
       "    }\n",
       "\n",
       "    .dataframe tbody tr th {\n",
       "        vertical-align: top;\n",
       "    }\n",
       "\n",
       "    .dataframe thead th {\n",
       "        text-align: right;\n",
       "    }\n",
       "</style>\n",
       "<table border=\"1\" class=\"dataframe\">\n",
       "  <thead>\n",
       "    <tr style=\"text-align: right;\">\n",
       "      <th></th>\n",
       "      <th>set</th>\n",
       "      <th>dropout</th>\n",
       "      <th>variable</th>\n",
       "      <th>value</th>\n",
       "      <th>metric</th>\n",
       "    </tr>\n",
       "  </thead>\n",
       "  <tbody>\n",
       "    <tr>\n",
       "      <th>0</th>\n",
       "      <td>Train</td>\n",
       "      <td>0</td>\n",
       "      <td>accuracy</td>\n",
       "      <td>0.982407</td>\n",
       "      <td>Train_accuracy</td>\n",
       "    </tr>\n",
       "    <tr>\n",
       "      <th>1</th>\n",
       "      <td>Test</td>\n",
       "      <td>0</td>\n",
       "      <td>accuracy</td>\n",
       "      <td>0.218188</td>\n",
       "      <td>Test_accuracy</td>\n",
       "    </tr>\n",
       "    <tr>\n",
       "      <th>2</th>\n",
       "      <td>Train</td>\n",
       "      <td>0.1</td>\n",
       "      <td>accuracy</td>\n",
       "      <td>0.985634</td>\n",
       "      <td>Train_accuracy</td>\n",
       "    </tr>\n",
       "    <tr>\n",
       "      <th>3</th>\n",
       "      <td>Test</td>\n",
       "      <td>0.1</td>\n",
       "      <td>accuracy</td>\n",
       "      <td>0.217483</td>\n",
       "      <td>Test_accuracy</td>\n",
       "    </tr>\n",
       "    <tr>\n",
       "      <th>4</th>\n",
       "      <td>Train</td>\n",
       "      <td>0.25</td>\n",
       "      <td>accuracy</td>\n",
       "      <td>0.98776</td>\n",
       "      <td>Train_accuracy</td>\n",
       "    </tr>\n",
       "    <tr>\n",
       "      <th>5</th>\n",
       "      <td>Test</td>\n",
       "      <td>0.25</td>\n",
       "      <td>accuracy</td>\n",
       "      <td>0.219598</td>\n",
       "      <td>Test_accuracy</td>\n",
       "    </tr>\n",
       "    <tr>\n",
       "      <th>6</th>\n",
       "      <td>Train</td>\n",
       "      <td>0.5</td>\n",
       "      <td>accuracy</td>\n",
       "      <td>0.935611</td>\n",
       "      <td>Train_accuracy</td>\n",
       "    </tr>\n",
       "    <tr>\n",
       "      <th>7</th>\n",
       "      <td>Test</td>\n",
       "      <td>0.5</td>\n",
       "      <td>accuracy</td>\n",
       "      <td>0.213253</td>\n",
       "      <td>Test_accuracy</td>\n",
       "    </tr>\n",
       "    <tr>\n",
       "      <th>8</th>\n",
       "      <td>Train</td>\n",
       "      <td>0</td>\n",
       "      <td>precision</td>\n",
       "      <td>0.982621</td>\n",
       "      <td>Train_precision</td>\n",
       "    </tr>\n",
       "    <tr>\n",
       "      <th>9</th>\n",
       "      <td>Test</td>\n",
       "      <td>0</td>\n",
       "      <td>precision</td>\n",
       "      <td>0.224599</td>\n",
       "      <td>Test_precision</td>\n",
       "    </tr>\n",
       "    <tr>\n",
       "      <th>10</th>\n",
       "      <td>Train</td>\n",
       "      <td>0.1</td>\n",
       "      <td>precision</td>\n",
       "      <td>0.985901</td>\n",
       "      <td>Train_precision</td>\n",
       "    </tr>\n",
       "    <tr>\n",
       "      <th>11</th>\n",
       "      <td>Test</td>\n",
       "      <td>0.1</td>\n",
       "      <td>precision</td>\n",
       "      <td>0.206567</td>\n",
       "      <td>Test_precision</td>\n",
       "    </tr>\n",
       "    <tr>\n",
       "      <th>12</th>\n",
       "      <td>Train</td>\n",
       "      <td>0.25</td>\n",
       "      <td>precision</td>\n",
       "      <td>0.987809</td>\n",
       "      <td>Train_precision</td>\n",
       "    </tr>\n",
       "    <tr>\n",
       "      <th>13</th>\n",
       "      <td>Test</td>\n",
       "      <td>0.25</td>\n",
       "      <td>precision</td>\n",
       "      <td>0.223577</td>\n",
       "      <td>Test_precision</td>\n",
       "    </tr>\n",
       "    <tr>\n",
       "      <th>14</th>\n",
       "      <td>Train</td>\n",
       "      <td>0.5</td>\n",
       "      <td>precision</td>\n",
       "      <td>0.938263</td>\n",
       "      <td>Train_precision</td>\n",
       "    </tr>\n",
       "    <tr>\n",
       "      <th>15</th>\n",
       "      <td>Test</td>\n",
       "      <td>0.5</td>\n",
       "      <td>precision</td>\n",
       "      <td>0.203134</td>\n",
       "      <td>Test_precision</td>\n",
       "    </tr>\n",
       "  </tbody>\n",
       "</table>\n",
       "</div>"
      ],
      "text/plain": [
       "      set dropout   variable     value           metric\n",
       "0   Train       0   accuracy  0.982407   Train_accuracy\n",
       "1    Test       0   accuracy  0.218188    Test_accuracy\n",
       "2   Train     0.1   accuracy  0.985634   Train_accuracy\n",
       "3    Test     0.1   accuracy  0.217483    Test_accuracy\n",
       "4   Train    0.25   accuracy   0.98776   Train_accuracy\n",
       "5    Test    0.25   accuracy  0.219598    Test_accuracy\n",
       "6   Train     0.5   accuracy  0.935611   Train_accuracy\n",
       "7    Test     0.5   accuracy  0.213253    Test_accuracy\n",
       "8   Train       0  precision  0.982621  Train_precision\n",
       "9    Test       0  precision  0.224599   Test_precision\n",
       "10  Train     0.1  precision  0.985901  Train_precision\n",
       "11   Test     0.1  precision  0.206567   Test_precision\n",
       "12  Train    0.25  precision  0.987809  Train_precision\n",
       "13   Test    0.25  precision  0.223577   Test_precision\n",
       "14  Train     0.5  precision  0.938263  Train_precision\n",
       "15   Test     0.5  precision  0.203134   Test_precision"
      ]
     },
     "execution_count": 35,
     "metadata": {},
     "output_type": "execute_result"
    }
   ],
   "source": [
    "tmp_ = tmp.melt(id_vars=['set', 'dropout'])\n",
    "tmp_['metric'] = tmp_['set'] + '_' + tmp_['variable']\n",
    "tmp_"
   ]
  },
  {
   "cell_type": "code",
   "execution_count": 49,
   "metadata": {},
   "outputs": [
    {
     "data": {
      "image/png": "[encoded data removed]",
      "text/plain": [
       "<Figure size 1296x360 with 2 Axes>"
      ]
     },
     "metadata": {},
     "output_type": "display_data"
    }
   ],
   "source": [
    "fig = plt.subplots(figsize=(18, 5))\n",
    "\n",
    "sns.set_palette('Paired', 4)\n",
    "\n",
    "plt.subplot(1,2,1)\n",
    "train_tmp = tmp_[tmp_['set'] == 'Train']\n",
    "p = sns.barplot(data=train_tmp, x='metric', y='value', hue='dropout')\n",
    "p.set_title('Metrics on Train-Set', loc='left')\n",
    "p.set_xlabel('Score')\n",
    "p.set_ylabel('')\n",
    "\n",
    "plt.subplot(1,2,2)\n",
    "test_tmp = tmp_[tmp_['set'] == 'Test']\n",
    "p = sns.barplot(data=test_tmp, x='metric', y='value', hue='dropout')\n",
    "p.set_title('Metrics on Test-Set', loc='left')\n",
    "p.set_xlabel('Score')\n",
    "p.set_ylabel('')\n",
    "\n",
    "plt.show()"
   ]
  }
 ],
 "metadata": {
  "kernelspec": {
   "display_name": "Python 3",
   "language": "python",
   "name": "python3"
  },
  "language_info": {
   "codemirror_mode": {
    "name": "ipython",
    "version": 3
   },
   "file_extension": ".py",
   "mimetype": "text/x-python",
   "name": "python",
   "nbconvert_exporter": "python",
   "pygments_lexer": "ipython3",
   "version": "3.8.5"
  }
 },
 "nbformat": 4,
 "nbformat_minor": 5
}
