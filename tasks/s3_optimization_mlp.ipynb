{
 "cells": [
  {
   "cell_type": "code",
   "execution_count": 1,
   "metadata": {},
   "outputs": [],
   "source": [
    "import sys\n",
    "sys.path.append('..')\n",
    "import os\n",
    "import shutil\n",
    "import numpy as np\n",
    "from tqdm import tqdm\n",
    "from tqdm.contrib.concurrent import process_map\n",
    "import matplotlib.pyplot as plt\n",
    "import PIL\n",
    "from PIL import Image\n",
    "import random\n",
    "import seaborn as sns\n",
    "import pandas as pd\n",
    "import pickle\n",
    "\n",
    "from multiprocess import Pool\n",
    "from program.helper import *\n",
    "from program.mlp_optimization import *\n",
    "from program.utility import *\n",
    "\n",
    "import torch\n",
    "from torchvision.datasets import ImageFolder\n",
    "from torchvision.transforms import Compose, Resize, CenterCrop, ToTensor, Normalize\n",
    "from torch.utils.data import DataLoader\n",
    "from torchvision.transforms.functional import to_pil_image\n",
    "import torch.nn as nn\n",
    "import torch.nn.functional as F\n",
    "import torch.optim as optim\n",
    "\n",
    "from sklearn.metrics import confusion_matrix\n",
    "from sklearn.metrics import accuracy_score, precision_score\n",
    "from sklearn.model_selection import KFold"
   ]
  },
  {
   "cell_type": "code",
   "execution_count": 2,
   "metadata": {},
   "outputs": [],
   "source": [
    "with open('../program/label_translator.pkl', 'rb') as pkl_file:\n",
    "    label_translator = pickle.load(pkl_file)"
   ]
  },
  {
   "cell_type": "markdown",
   "metadata": {},
   "source": [
    "## Pre-Processing"
   ]
  },
  {
   "cell_type": "code",
   "execution_count": 3,
   "metadata": {},
   "outputs": [],
   "source": [
    "# Define a Composal of image transformation used for image load\n",
    "transform_images = Compose([Resize((227, 227)), \n",
    "                            ToTensor(),\n",
    "                            Normalize(mean=[0.485, 0.456, 0.406], std=[0.229, 0.224, 0.225])])"
   ]
  },
  {
   "cell_type": "code",
   "execution_count": 5,
   "metadata": {},
   "outputs": [],
   "source": [
    "train_data = ImageFolder(\"../data/train\", transform=transform_images)\n",
    "test_data = ImageFolder(\"../data/test\", transform=transform_images)"
   ]
  },
  {
   "cell_type": "code",
   "execution_count": 6,
   "metadata": {},
   "outputs": [],
   "source": [
    "dataloader_train = DataLoader(train_data, batch_size=150, shuffle=True, \n",
    "                              num_workers=24, pin_memory=True)\n",
    "dataloader_test = DataLoader(test_data, batch_size=150, shuffle=True, \n",
    "                             num_workers=24, pin_memory=True)"
   ]
  },
  {
   "cell_type": "markdown",
   "metadata": {},
   "source": [
    "## Optimization of MLP-Layer\n",
    "\n",
    "These are results from a optuna study\n",
    "\n",
    "Source: `mlp_optimization.py`\n",
    "\n",
    "This scritp was run in a separate terminal"
   ]
  },
  {
   "cell_type": "code",
   "execution_count": 8,
   "metadata": {},
   "outputs": [],
   "source": [
    "with open('../saved/best_trial.pkl', 'rb') as pkl_file:\n",
    "    best_trial = pickle.load(pkl_file)"
   ]
  },
  {
   "cell_type": "code",
   "execution_count": 9,
   "metadata": {},
   "outputs": [
    {
     "data": {
      "text/plain": [
       "{'n_layers': 3, 'fc1': 2379, 'fc2': 5592, 'fc3': 7864}"
      ]
     },
     "execution_count": 9,
     "metadata": {},
     "output_type": "execute_result"
    }
   ],
   "source": [
    "best_trial.params"
   ]
  },
  {
   "cell_type": "code",
   "execution_count": 10,
   "metadata": {},
   "outputs": [
    {
     "data": {
      "text/plain": [
       "0.24850193866760661"
      ]
     },
     "execution_count": 10,
     "metadata": {},
     "output_type": "execute_result"
    }
   ],
   "source": [
    "best_trial.value"
   ]
  },
  {
   "cell_type": "markdown",
   "metadata": {},
   "source": [
    "### Error Estimation of Metric\n",
    "\n",
    "https://androidkt.com/pytorch-k-fold-cross-validation-using-dataloader-and-sklearn/"
   ]
  },
  {
   "cell_type": "code",
   "execution_count": 11,
   "metadata": {},
   "outputs": [],
   "source": [
    "def plot_cv_metrics(metrics: dict):\n",
    "    df = pd.DataFrame.from_dict(metrics).T\n",
    "    df['train_precision'] = df['precision'].map(lambda x: x[0])\n",
    "    df['test_precision'] = df['precision'].map(lambda x: x[1])\n",
    "    df['train_accuracy'] = df['accuracy'].map(lambda x: x[0])\n",
    "    df['test_accuracy'] = df['accuracy'].map(lambda x: x[1])\n",
    "    df = df.drop(['accuracy', 'precision'], axis=1)\n",
    "    df = df.reset_index()\n",
    "    df = df.melt(id_vars='index',var_name='name', value_name='score' )\n",
    "    \n",
    "    fig = plt.subplots(figsize=(18, 4))\n",
    "    sns.set_palette('Paired', 4)\n",
    "    sns.set_style('whitegrid')\n",
    "    plt.subplot(1,2,1)\n",
    "    tmp = df[df['name'].str.contains('train')]\n",
    "    p = sns.boxplot(data=tmp, x='name', y='score')\n",
    "    p.set_title('Error Estimation of Metrics on Trainset', loc='left')\n",
    "    p.set_xticklabels(['Precision', 'Accuracy'])\n",
    "    p.set_xlabel('')\n",
    "    p.set_ylabel('Score')\n",
    "\n",
    "    plt.subplot(1,2,2)\n",
    "    tmp = df[df['name'].str.contains('test')]\n",
    "    p = sns.boxplot(data=tmp, x='name', y='score' ,width=.5)\n",
    "    p.set_title('Error Estimation of Metrics on Testset', loc='left')\n",
    "    p.set_xticklabels(['Precision', 'Accuracy'])\n",
    "    p.set_xlabel('')\n",
    "    p.set_ylabel('Score')\n",
    "\n",
    "    plt.show()\n",
    "    return p"
   ]
  },
  {
   "cell_type": "code",
   "execution_count": 12,
   "metadata": {},
   "outputs": [],
   "source": [
    "from networks import FlatAlexNetOpt"
   ]
  },
  {
   "cell_type": "code",
   "execution_count": 13,
   "metadata": {},
   "outputs": [
    {
     "name": "stdout",
     "output_type": "stream",
     "text": [
      "==================================================\n",
      "Trainable Parameters: 72756991\n",
      "==================================================\n"
     ]
    }
   ],
   "source": [
    "opt_model = FlatAlexNetOpt(n_classes=28)\n",
    "criterion = nn.CrossEntropyLoss()\n",
    "optimizer = optim.SGD(opt_model.parameters(),  lr=.0045, momentum=.95)\n",
    "dtype = torch.float32\n",
    "print_total_params(opt_model)"
   ]
  },
  {
   "cell_type": "code",
   "execution_count": 22,
   "metadata": {},
   "outputs": [
    {
     "name": "stdout",
     "output_type": "stream",
     "text": [
      "==================== Fold 0 ====================\n"
     ]
    },
    {
     "name": "stderr",
     "output_type": "stream",
     "text": [
      "Epoch: 1 // Running Loss: 501.972 // Accuracy: 0 : 100%|██████████| 151/151 [00:18<00:00,  8.32it/s]\n",
      "Epoch: 2 // Running Loss: 481.97 // Accuracy: 0.046 : 100%|██████████| 151/151 [00:17<00:00,  8.49it/s] \n",
      "Epoch: 3 // Running Loss: 456.064 // Accuracy: 0.073 : 100%|██████████| 151/151 [00:18<00:00,  8.37it/s]\n",
      "Epoch: 4 // Running Loss: 440.466 // Accuracy: 0.097 : 100%|██████████| 151/151 [00:17<00:00,  8.41it/s]\n",
      "Epoch: 5 // Running Loss: 431.917 // Accuracy: 0.113 : 100%|██████████| 151/151 [00:18<00:00,  8.36it/s]\n",
      "Epoch: 6 // Running Loss: 422.855 // Accuracy: 0.125 : 100%|██████████| 151/151 [00:18<00:00,  8.37it/s]\n",
      "Epoch: 7 // Running Loss: 416.567 // Accuracy: 0.137 : 100%|██████████| 151/151 [00:18<00:00,  8.31it/s]\n",
      "Epoch: 8 // Running Loss: 407.706 // Accuracy: 0.146 : 100%|██████████| 151/151 [00:18<00:00,  8.26it/s]\n",
      "Epoch: 9 // Running Loss: 398.867 // Accuracy: 0.155 : 100%|██████████| 151/151 [00:18<00:00,  8.34it/s]\n",
      "Epoch: 10 // Running Loss: 391.511 // Accuracy: 0.163 : 100%|██████████| 151/151 [00:18<00:00,  8.34it/s]\n",
      "Epoch: 11 // Running Loss: 385.771 // Accuracy: 0.171 : 100%|██████████| 151/151 [00:18<00:00,  8.37it/s]\n",
      "Epoch: 12 // Running Loss: 377.784 // Accuracy: 0.179 : 100%|██████████| 151/151 [00:17<00:00,  8.39it/s]\n",
      "Epoch: 13 // Running Loss: 370.636 // Accuracy: 0.186 : 100%|██████████| 151/151 [00:18<00:00,  8.36it/s]\n",
      "Epoch: 14 // Running Loss: 361.769 // Accuracy: 0.193 : 100%|██████████| 151/151 [00:18<00:00,  8.30it/s]\n",
      "Epoch: 15 // Running Loss: 354.028 // Accuracy: 0.2 : 100%|██████████| 151/151 [00:18<00:00,  8.35it/s]\n",
      "Epoch: 16 // Running Loss: 348.297 // Accuracy: 0.207 : 100%|██████████| 151/151 [00:19<00:00,  7.74it/s]\n",
      "Epoch: 17 // Running Loss: 335.84 // Accuracy: 0.214 : 100%|██████████| 151/151 [00:19<00:00,  7.70it/s] \n",
      "Epoch: 18 // Running Loss: 326.272 // Accuracy: 0.221 : 100%|██████████| 151/151 [00:18<00:00,  8.25it/s]\n",
      "Epoch: 19 // Running Loss: 317.743 // Accuracy: 0.228 : 100%|██████████| 151/151 [00:18<00:00,  8.32it/s]\n",
      "Epoch: 20 // Running Loss: 303.152 // Accuracy: 0.235 : 100%|██████████| 151/151 [00:18<00:00,  8.37it/s]\n",
      "Epoch: 21 // Running Loss: 289.008 // Accuracy: 0.243 : 100%|██████████| 151/151 [00:18<00:00,  8.33it/s]\n",
      "Epoch: 22 // Running Loss: 273.346 // Accuracy: 0.251 : 100%|██████████| 151/151 [00:18<00:00,  8.26it/s]\n",
      "Epoch: 23 // Running Loss: 251.807 // Accuracy: 0.26 : 100%|██████████| 151/151 [00:18<00:00,  8.03it/s]\n",
      "Epoch: 24 // Running Loss: 236.588 // Accuracy: 0.27 : 100%|██████████| 151/151 [00:18<00:00,  8.30it/s]\n",
      "Epoch: 25 // Running Loss: 207.402 // Accuracy: 0.28 : 100%|██████████| 151/151 [00:18<00:00,  8.30it/s]\n",
      "Epoch: 26 // Running Loss: 184.641 // Accuracy: 0.291 : 100%|██████████| 151/151 [00:18<00:00,  8.20it/s]\n",
      "Epoch: 27 // Running Loss: 159.684 // Accuracy: 0.303 : 100%|██████████| 151/151 [00:18<00:00,  8.31it/s]\n",
      "Epoch: 28 // Running Loss: 133.574 // Accuracy: 0.317 : 100%|██████████| 151/151 [00:17<00:00,  8.40it/s]\n",
      "Epoch: 29 // Running Loss: 105.429 // Accuracy: 0.331 : 100%|██████████| 151/151 [00:18<00:00,  8.34it/s]\n",
      "Epoch: 30 // Running Loss: 95.447 // Accuracy: 0.346 : 100%|██████████| 151/151 [00:18<00:00,  8.21it/s]\n",
      "Epoch: 31 // Running Loss: 73.221 // Accuracy: 0.361 : 100%|██████████| 151/151 [00:18<00:00,  8.31it/s]\n",
      "Epoch: 32 // Running Loss: 66.356 // Accuracy: 0.377 : 100%|██████████| 151/151 [00:18<00:00,  8.14it/s]\n",
      "Epoch: 33 // Running Loss: 54.353 // Accuracy: 0.392 : 100%|██████████| 151/151 [00:20<00:00,  7.43it/s]\n",
      "Epoch: 34 // Running Loss: 45.382 // Accuracy: 0.407 : 100%|██████████| 151/151 [00:18<00:00,  8.24it/s]\n",
      "Epoch: 35 // Running Loss: 37.238 // Accuracy: 0.421 : 100%|██████████| 151/151 [00:18<00:00,  8.36it/s]\n",
      "Epoch: 36 // Running Loss: 33.98 // Accuracy: 0.436 : 100%|██████████| 151/151 [00:18<00:00,  8.35it/s] \n",
      "Epoch: 37 // Running Loss: 29.676 // Accuracy: 0.449 : 100%|██████████| 151/151 [00:18<00:00,  8.29it/s]\n",
      "Epoch: 38 // Running Loss: 20.464 // Accuracy: 0.463 : 100%|██████████| 151/151 [00:18<00:00,  8.34it/s]\n",
      "Epoch: 39 // Running Loss: 20.555 // Accuracy: 0.476 : 100%|██████████| 151/151 [00:18<00:00,  8.33it/s]\n",
      "Epoch: 40 // Running Loss: 17.772 // Accuracy: 0.488 : 100%|██████████| 151/151 [00:18<00:00,  8.28it/s]\n"
     ]
    },
    {
     "name": "stdout",
     "output_type": "stream",
     "text": [
      "Calculating Metrics ...\n"
     ]
    },
    {
     "name": "stderr",
     "output_type": "stream",
     "text": [
      "Calculate Acc. on Train Data: 100%|██████████| 151/151 [00:17<00:00,  8.44it/s]\n",
      "Calculate Acc. on Test Data: 100%|██████████| 38/38 [00:05<00:00,  7.25it/s]\n"
     ]
    },
    {
     "name": "stdout",
     "output_type": "stream",
     "text": [
      "==================== Fold 1 ====================\n"
     ]
    },
    {
     "name": "stderr",
     "output_type": "stream",
     "text": [
      "Epoch: 1 // Running Loss: 501.841 // Accuracy: 0 : 100%|██████████| 151/151 [00:18<00:00,  8.36it/s]\n",
      "Epoch: 2 // Running Loss: 481.226 // Accuracy: 0.042 : 100%|██████████| 151/151 [00:18<00:00,  8.27it/s]\n",
      "Epoch: 3 // Running Loss: 456.405 // Accuracy: 0.071 : 100%|██████████| 151/151 [00:18<00:00,  8.27it/s]\n",
      "Epoch: 4 // Running Loss: 443.499 // Accuracy: 0.094 : 100%|██████████| 151/151 [00:18<00:00,  8.36it/s]\n",
      "Epoch: 5 // Running Loss: 433.651 // Accuracy: 0.11 : 100%|██████████| 151/151 [00:18<00:00,  8.29it/s]\n",
      "Epoch: 6 // Running Loss: 425.838 // Accuracy: 0.122 : 100%|██████████| 151/151 [00:18<00:00,  8.32it/s]\n",
      "Epoch: 7 // Running Loss: 417.65 // Accuracy: 0.134 : 100%|██████████| 151/151 [00:18<00:00,  8.28it/s] \n",
      "Epoch: 8 // Running Loss: 410.477 // Accuracy: 0.143 : 100%|██████████| 151/151 [00:18<00:00,  8.33it/s]\n",
      "Epoch: 9 // Running Loss: 403.044 // Accuracy: 0.151 : 100%|██████████| 151/151 [00:18<00:00,  8.37it/s]\n",
      "Epoch: 10 // Running Loss: 396.108 // Accuracy: 0.159 : 100%|██████████| 151/151 [00:18<00:00,  8.30it/s]\n",
      "Epoch: 11 // Running Loss: 387.694 // Accuracy: 0.167 : 100%|██████████| 151/151 [00:18<00:00,  8.36it/s]\n",
      "Epoch: 12 // Running Loss: 380.858 // Accuracy: 0.174 : 100%|██████████| 151/151 [00:18<00:00,  8.21it/s]\n",
      "Epoch: 13 // Running Loss: 373.537 // Accuracy: 0.181 : 100%|██████████| 151/151 [00:17<00:00,  8.44it/s]\n",
      "Epoch: 14 // Running Loss: 367.899 // Accuracy: 0.188 : 100%|██████████| 151/151 [00:18<00:00,  8.37it/s]\n",
      "Epoch: 15 // Running Loss: 359.44 // Accuracy: 0.194 : 100%|██████████| 151/151 [00:18<00:00,  8.35it/s] \n",
      "Epoch: 16 // Running Loss: 349.908 // Accuracy: 0.201 : 100%|██████████| 151/151 [00:18<00:00,  8.23it/s]\n",
      "Epoch: 17 // Running Loss: 347.46 // Accuracy: 0.207 : 100%|██████████| 151/151 [00:18<00:00,  8.25it/s] \n",
      "Epoch: 18 // Running Loss: 334.377 // Accuracy: 0.214 : 100%|██████████| 151/151 [00:18<00:00,  8.31it/s]\n",
      "Epoch: 19 // Running Loss: 320.567 // Accuracy: 0.22 : 100%|██████████| 151/151 [00:18<00:00,  8.17it/s]\n",
      "Epoch: 20 // Running Loss: 308.916 // Accuracy: 0.228 : 100%|██████████| 151/151 [00:18<00:00,  8.38it/s]\n",
      "Epoch: 21 // Running Loss: 293.522 // Accuracy: 0.235 : 100%|██████████| 151/151 [00:18<00:00,  8.36it/s]\n",
      "Epoch: 22 // Running Loss: 280.619 // Accuracy: 0.243 : 100%|██████████| 151/151 [00:18<00:00,  8.38it/s]\n",
      "Epoch: 23 // Running Loss: 264.772 // Accuracy: 0.251 : 100%|██████████| 151/151 [00:18<00:00,  8.36it/s]\n",
      "Epoch: 24 // Running Loss: 247.194 // Accuracy: 0.26 : 100%|██████████| 151/151 [00:18<00:00,  8.36it/s]\n",
      "Epoch: 25 // Running Loss: 221.663 // Accuracy: 0.269 : 100%|██████████| 151/151 [00:18<00:00,  8.34it/s]\n",
      "Epoch: 26 // Running Loss: 197.833 // Accuracy: 0.28 : 100%|██████████| 151/151 [00:18<00:00,  8.33it/s]\n",
      "Epoch: 27 // Running Loss: 173.929 // Accuracy: 0.292 : 100%|██████████| 151/151 [00:18<00:00,  8.29it/s]\n",
      "Epoch: 28 // Running Loss: 143.888 // Accuracy: 0.305 : 100%|██████████| 151/151 [00:17<00:00,  8.43it/s]\n",
      "Epoch: 29 // Running Loss: 127.342 // Accuracy: 0.319 : 100%|██████████| 151/151 [00:18<00:00,  8.38it/s]\n",
      "Epoch: 30 // Running Loss: 106.209 // Accuracy: 0.333 : 100%|██████████| 151/151 [00:18<00:00,  8.38it/s]\n",
      "Epoch: 31 // Running Loss: 87.312 // Accuracy: 0.347 : 100%|██████████| 151/151 [00:17<00:00,  8.44it/s]\n",
      "Epoch: 32 // Running Loss: 69.497 // Accuracy: 0.362 : 100%|██████████| 151/151 [00:18<00:00,  8.31it/s]\n",
      "Epoch: 33 // Running Loss: 58.979 // Accuracy: 0.378 : 100%|██████████| 151/151 [00:18<00:00,  8.27it/s]\n",
      "Epoch: 34 // Running Loss: 48.717 // Accuracy: 0.393 : 100%|██████████| 151/151 [00:18<00:00,  8.28it/s]\n",
      "Epoch: 35 // Running Loss: 43.94 // Accuracy: 0.407 : 100%|██████████| 151/151 [00:18<00:00,  8.11it/s] \n",
      "Epoch: 36 // Running Loss: 33.131 // Accuracy: 0.422 : 100%|██████████| 151/151 [00:18<00:00,  8.13it/s]\n",
      "Epoch: 37 // Running Loss: 30.18 // Accuracy: 0.436 : 100%|██████████| 151/151 [00:18<00:00,  8.09it/s] \n",
      "Epoch: 38 // Running Loss: 23.995 // Accuracy: 0.449 : 100%|██████████| 151/151 [00:17<00:00,  8.39it/s]\n",
      "Epoch: 39 // Running Loss: 35.127 // Accuracy: 0.463 : 100%|██████████| 151/151 [00:18<00:00,  8.34it/s]\n",
      "Epoch: 40 // Running Loss: 25.429 // Accuracy: 0.474 : 100%|██████████| 151/151 [00:18<00:00,  8.28it/s]\n"
     ]
    },
    {
     "name": "stdout",
     "output_type": "stream",
     "text": [
      "Calculating Metrics ...\n"
     ]
    },
    {
     "name": "stderr",
     "output_type": "stream",
     "text": [
      "Calculate Acc. on Train Data: 100%|██████████| 151/151 [00:17<00:00,  8.49it/s]\n",
      "Calculate Acc. on Test Data: 100%|██████████| 38/38 [00:05<00:00,  7.34it/s]\n"
     ]
    },
    {
     "name": "stdout",
     "output_type": "stream",
     "text": [
      "==================== Fold 2 ====================\n"
     ]
    },
    {
     "name": "stderr",
     "output_type": "stream",
     "text": [
      "Epoch: 1 // Running Loss: 501.944 // Accuracy: 0 : 100%|██████████| 151/151 [00:18<00:00,  8.32it/s]\n",
      "Epoch: 2 // Running Loss: 479.441 // Accuracy: 0.048 : 100%|██████████| 151/151 [00:18<00:00,  8.27it/s]\n",
      "Epoch: 3 // Running Loss: 452.702 // Accuracy: 0.078 : 100%|██████████| 151/151 [00:17<00:00,  8.45it/s]\n",
      "Epoch: 4 // Running Loss: 442.165 // Accuracy: 0.101 : 100%|██████████| 151/151 [00:18<00:00,  8.29it/s]\n",
      "Epoch: 5 // Running Loss: 433.688 // Accuracy: 0.116 : 100%|██████████| 151/151 [00:18<00:00,  8.27it/s]\n",
      "Epoch: 6 // Running Loss: 425.684 // Accuracy: 0.128 : 100%|██████████| 151/151 [00:18<00:00,  8.36it/s]\n",
      "Epoch: 7 // Running Loss: 416.018 // Accuracy: 0.138 : 100%|██████████| 151/151 [00:18<00:00,  8.31it/s]\n",
      "Epoch: 8 // Running Loss: 408.486 // Accuracy: 0.147 : 100%|██████████| 151/151 [00:18<00:00,  8.22it/s]\n",
      "Epoch: 9 // Running Loss: 401.151 // Accuracy: 0.155 : 100%|██████████| 151/151 [00:18<00:00,  8.32it/s]\n",
      "Epoch: 10 // Running Loss: 395.226 // Accuracy: 0.163 : 100%|██████████| 151/151 [00:18<00:00,  8.28it/s]\n",
      "Epoch: 11 // Running Loss: 389.592 // Accuracy: 0.17 : 100%|██████████| 151/151 [00:17<00:00,  8.48it/s]\n",
      "Epoch: 12 // Running Loss: 379.914 // Accuracy: 0.177 : 100%|██████████| 151/151 [00:18<00:00,  8.25it/s]\n",
      "Epoch: 13 // Running Loss: 372.133 // Accuracy: 0.184 : 100%|██████████| 151/151 [00:18<00:00,  8.37it/s]\n",
      "Epoch: 14 // Running Loss: 368.234 // Accuracy: 0.191 : 100%|██████████| 151/151 [00:18<00:00,  8.19it/s]\n",
      "Epoch: 15 // Running Loss: 358.186 // Accuracy: 0.197 : 100%|██████████| 151/151 [00:18<00:00,  8.09it/s]\n",
      "Epoch: 16 // Running Loss: 349.207 // Accuracy: 0.204 : 100%|██████████| 151/151 [00:18<00:00,  8.30it/s]\n",
      "Epoch: 17 // Running Loss: 340.035 // Accuracy: 0.21 : 100%|██████████| 151/151 [00:18<00:00,  8.37it/s]\n",
      "Epoch: 18 // Running Loss: 332.227 // Accuracy: 0.217 : 100%|██████████| 151/151 [00:17<00:00,  8.39it/s]\n",
      "Epoch: 19 // Running Loss: 323.146 // Accuracy: 0.224 : 100%|██████████| 151/151 [00:18<00:00,  8.18it/s]\n",
      "Epoch: 20 // Running Loss: 310.912 // Accuracy: 0.231 : 100%|██████████| 151/151 [00:18<00:00,  8.24it/s]\n",
      "Epoch: 21 // Running Loss: 295.292 // Accuracy: 0.238 : 100%|██████████| 151/151 [00:18<00:00,  8.14it/s]\n",
      "Epoch: 22 // Running Loss: 278.617 // Accuracy: 0.246 : 100%|██████████| 151/151 [00:18<00:00,  8.22it/s]\n",
      "Epoch: 23 // Running Loss: 260.861 // Accuracy: 0.255 : 100%|██████████| 151/151 [00:17<00:00,  8.40it/s]\n",
      "Epoch: 24 // Running Loss: 241.856 // Accuracy: 0.264 : 100%|██████████| 151/151 [00:18<00:00,  8.28it/s]\n",
      "Epoch: 25 // Running Loss: 216.997 // Accuracy: 0.274 : 100%|██████████| 151/151 [00:18<00:00,  8.20it/s]\n",
      "Epoch: 26 // Running Loss: 199.959 // Accuracy: 0.285 : 100%|██████████| 151/151 [00:18<00:00,  8.04it/s]\n",
      "Epoch: 27 // Running Loss: 177.401 // Accuracy: 0.296 : 100%|██████████| 151/151 [00:18<00:00,  8.23it/s]\n",
      "Epoch: 28 // Running Loss: 151.844 // Accuracy: 0.308 : 100%|██████████| 151/151 [00:17<00:00,  8.39it/s]\n",
      "Epoch: 29 // Running Loss: 125.22 // Accuracy: 0.321 : 100%|██████████| 151/151 [00:18<00:00,  8.26it/s] \n",
      "Epoch: 30 // Running Loss: 104.618 // Accuracy: 0.336 : 100%|██████████| 151/151 [00:18<00:00,  8.33it/s]\n",
      "Epoch: 31 // Running Loss: 84.94 // Accuracy: 0.35 : 100%|██████████| 151/151 [00:18<00:00,  8.37it/s] \n",
      "Epoch: 32 // Running Loss: 76.678 // Accuracy: 0.365 : 100%|██████████| 151/151 [00:18<00:00,  8.34it/s]\n",
      "Epoch: 33 // Running Loss: 56.912 // Accuracy: 0.38 : 100%|██████████| 151/151 [00:18<00:00,  8.15it/s]\n",
      "Epoch: 34 // Running Loss: 46.761 // Accuracy: 0.395 : 100%|██████████| 151/151 [00:18<00:00,  8.22it/s]\n",
      "Epoch: 35 // Running Loss: 41.177 // Accuracy: 0.41 : 100%|██████████| 151/151 [00:17<00:00,  8.39it/s]\n",
      "Epoch: 36 // Running Loss: 36.608 // Accuracy: 0.424 : 100%|██████████| 151/151 [00:18<00:00,  8.34it/s]\n",
      "Epoch: 37 // Running Loss: 35.966 // Accuracy: 0.438 : 100%|██████████| 151/151 [00:18<00:00,  8.25it/s]\n",
      "Epoch: 38 // Running Loss: 27.369 // Accuracy: 0.451 : 100%|██████████| 151/151 [00:18<00:00,  8.25it/s]\n",
      "Epoch: 39 // Running Loss: 29.273 // Accuracy: 0.464 : 100%|██████████| 151/151 [00:18<00:00,  8.25it/s]\n",
      "Epoch: 40 // Running Loss: 22.403 // Accuracy: 0.476 : 100%|██████████| 151/151 [00:18<00:00,  8.11it/s]\n"
     ]
    },
    {
     "name": "stdout",
     "output_type": "stream",
     "text": [
      "Calculating Metrics ...\n"
     ]
    },
    {
     "name": "stderr",
     "output_type": "stream",
     "text": [
      "Calculate Acc. on Train Data: 100%|██████████| 151/151 [00:17<00:00,  8.53it/s]\n",
      "Calculate Acc. on Test Data: 100%|██████████| 38/38 [00:05<00:00,  7.21it/s]\n"
     ]
    },
    {
     "name": "stdout",
     "output_type": "stream",
     "text": [
      "==================== Fold 3 ====================\n"
     ]
    },
    {
     "name": "stderr",
     "output_type": "stream",
     "text": [
      "Epoch: 1 // Running Loss: 501.954 // Accuracy: 0 : 100%|██████████| 151/151 [00:18<00:00,  8.35it/s]\n",
      "Epoch: 2 // Running Loss: 480.209 // Accuracy: 0.041 : 100%|██████████| 151/151 [00:18<00:00,  8.29it/s]\n",
      "Epoch: 3 // Running Loss: 454.567 // Accuracy: 0.071 : 100%|██████████| 151/151 [00:18<00:00,  8.28it/s]\n",
      "Epoch: 4 // Running Loss: 441.296 // Accuracy: 0.096 : 100%|██████████| 151/151 [00:18<00:00,  8.32it/s]\n",
      "Epoch: 5 // Running Loss: 432.413 // Accuracy: 0.112 : 100%|██████████| 151/151 [00:18<00:00,  8.27it/s]\n",
      "Epoch: 6 // Running Loss: 424.962 // Accuracy: 0.125 : 100%|██████████| 151/151 [00:18<00:00,  8.33it/s]\n",
      "Epoch: 7 // Running Loss: 419.096 // Accuracy: 0.136 : 100%|██████████| 151/151 [00:18<00:00,  8.16it/s]\n",
      "Epoch: 8 // Running Loss: 409.906 // Accuracy: 0.145 : 100%|██████████| 151/151 [00:18<00:00,  8.29it/s]\n",
      "Epoch: 9 // Running Loss: 401.152 // Accuracy: 0.153 : 100%|██████████| 151/151 [00:18<00:00,  8.25it/s]\n",
      "Epoch: 10 // Running Loss: 394.73 // Accuracy: 0.162 : 100%|██████████| 151/151 [00:18<00:00,  8.33it/s] \n",
      "Epoch: 11 // Running Loss: 388.341 // Accuracy: 0.169 : 100%|██████████| 151/151 [00:18<00:00,  8.14it/s]\n",
      "Epoch: 12 // Running Loss: 381.029 // Accuracy: 0.176 : 100%|██████████| 151/151 [00:18<00:00,  8.26it/s]\n",
      "Epoch: 13 // Running Loss: 374.245 // Accuracy: 0.183 : 100%|██████████| 151/151 [00:21<00:00,  6.99it/s]\n",
      "Epoch: 14 // Running Loss: 367.159 // Accuracy: 0.19 : 100%|██████████| 151/151 [00:18<00:00,  8.37it/s]\n",
      "Epoch: 15 // Running Loss: 359.751 // Accuracy: 0.197 : 100%|██████████| 151/151 [00:18<00:00,  8.14it/s]\n",
      "Epoch: 16 // Running Loss: 350.413 // Accuracy: 0.203 : 100%|██████████| 151/151 [00:18<00:00,  8.36it/s]\n",
      "Epoch: 17 // Running Loss: 340.515 // Accuracy: 0.21 : 100%|██████████| 151/151 [00:18<00:00,  8.34it/s]\n",
      "Epoch: 18 // Running Loss: 333.32 // Accuracy: 0.217 : 100%|██████████| 151/151 [00:18<00:00,  8.14it/s] \n",
      "Epoch: 19 // Running Loss: 318.346 // Accuracy: 0.224 : 100%|██████████| 151/151 [00:17<00:00,  8.39it/s]\n",
      "Epoch: 20 // Running Loss: 307.251 // Accuracy: 0.231 : 100%|██████████| 151/151 [00:18<00:00,  8.30it/s]\n",
      "Epoch: 21 // Running Loss: 292.539 // Accuracy: 0.238 : 100%|██████████| 151/151 [00:18<00:00,  8.31it/s]\n",
      "Epoch: 22 // Running Loss: 276.656 // Accuracy: 0.246 : 100%|██████████| 151/151 [00:18<00:00,  8.29it/s]\n",
      "Epoch: 23 // Running Loss: 264.189 // Accuracy: 0.255 : 100%|██████████| 151/151 [00:18<00:00,  8.29it/s]\n",
      "Epoch: 24 // Running Loss: 239.099 // Accuracy: 0.264 : 100%|██████████| 151/151 [00:18<00:00,  8.30it/s]\n",
      "Epoch: 25 // Running Loss: 214.988 // Accuracy: 0.274 : 100%|██████████| 151/151 [00:18<00:00,  8.30it/s]\n",
      "Epoch: 26 // Running Loss: 192.458 // Accuracy: 0.285 : 100%|██████████| 151/151 [00:17<00:00,  8.41it/s]\n",
      "Epoch: 27 // Running Loss: 169.602 // Accuracy: 0.297 : 100%|██████████| 151/151 [00:18<00:00,  8.36it/s]\n",
      "Epoch: 28 // Running Loss: 142.189 // Accuracy: 0.31 : 100%|██████████| 151/151 [00:18<00:00,  8.27it/s]\n",
      "Epoch: 29 // Running Loss: 117.972 // Accuracy: 0.324 : 100%|██████████| 151/151 [00:18<00:00,  8.23it/s]\n",
      "Epoch: 30 // Running Loss: 96.609 // Accuracy: 0.338 : 100%|██████████| 151/151 [00:18<00:00,  8.27it/s]\n",
      "Epoch: 31 // Running Loss: 74.517 // Accuracy: 0.354 : 100%|██████████| 151/151 [00:18<00:00,  8.35it/s]\n",
      "Epoch: 32 // Running Loss: 63.341 // Accuracy: 0.369 : 100%|██████████| 151/151 [00:18<00:00,  8.24it/s]\n",
      "Epoch: 33 // Running Loss: 54.95 // Accuracy: 0.385 : 100%|██████████| 151/151 [00:18<00:00,  8.33it/s] \n",
      "Epoch: 34 // Running Loss: 45.447 // Accuracy: 0.4 : 100%|██████████| 151/151 [00:18<00:00,  8.29it/s]\n",
      "Epoch: 35 // Running Loss: 38.01 // Accuracy: 0.415 : 100%|██████████| 151/151 [00:18<00:00,  8.36it/s] \n",
      "Epoch: 36 // Running Loss: 31.209 // Accuracy: 0.429 : 100%|██████████| 151/151 [00:17<00:00,  8.39it/s]\n",
      "Epoch: 37 // Running Loss: 32.132 // Accuracy: 0.443 : 100%|██████████| 151/151 [00:18<00:00,  8.39it/s]\n",
      "Epoch: 38 // Running Loss: 27.433 // Accuracy: 0.456 : 100%|██████████| 151/151 [00:18<00:00,  8.38it/s]\n",
      "Epoch: 39 // Running Loss: 20.002 // Accuracy: 0.469 : 100%|██████████| 151/151 [00:18<00:00,  8.28it/s]\n",
      "Epoch: 40 // Running Loss: 19.224 // Accuracy: 0.481 : 100%|██████████| 151/151 [00:18<00:00,  8.32it/s]\n"
     ]
    },
    {
     "name": "stdout",
     "output_type": "stream",
     "text": [
      "Calculating Metrics ...\n"
     ]
    },
    {
     "name": "stderr",
     "output_type": "stream",
     "text": [
      "Calculate Acc. on Train Data: 100%|██████████| 151/151 [00:17<00:00,  8.55it/s]\n",
      "Calculate Acc. on Test Data: 100%|██████████| 38/38 [00:05<00:00,  7.22it/s]\n"
     ]
    },
    {
     "name": "stdout",
     "output_type": "stream",
     "text": [
      "==================== Fold 4 ====================\n"
     ]
    },
    {
     "name": "stderr",
     "output_type": "stream",
     "text": [
      "Epoch: 1 // Running Loss: 501.908 // Accuracy: 0 : 100%|██████████| 151/151 [00:18<00:00,  8.19it/s]\n",
      "Epoch: 2 // Running Loss: 478.537 // Accuracy: 0.044 : 100%|██████████| 151/151 [00:18<00:00,  8.30it/s]\n",
      "Epoch: 3 // Running Loss: 453.098 // Accuracy: 0.074 : 100%|██████████| 151/151 [00:18<00:00,  8.21it/s]\n",
      "Epoch: 4 // Running Loss: 441.621 // Accuracy: 0.098 : 100%|██████████| 151/151 [00:18<00:00,  8.28it/s]\n",
      "Epoch: 5 // Running Loss: 431.037 // Accuracy: 0.114 : 100%|██████████| 151/151 [00:18<00:00,  8.26it/s]\n",
      "Epoch: 6 // Running Loss: 424.939 // Accuracy: 0.127 : 100%|██████████| 151/151 [00:18<00:00,  8.28it/s]\n",
      "Epoch: 7 // Running Loss: 415.707 // Accuracy: 0.137 : 100%|██████████| 151/151 [00:18<00:00,  8.28it/s]\n",
      "Epoch: 8 // Running Loss: 410.808 // Accuracy: 0.146 : 100%|██████████| 151/151 [00:18<00:00,  8.27it/s]\n",
      "Epoch: 9 // Running Loss: 401.419 // Accuracy: 0.154 : 100%|██████████| 151/151 [00:18<00:00,  8.28it/s]\n",
      "Epoch: 10 // Running Loss: 396.671 // Accuracy: 0.161 : 100%|██████████| 151/151 [00:18<00:00,  8.34it/s]\n",
      "Epoch: 11 // Running Loss: 388.587 // Accuracy: 0.168 : 100%|██████████| 151/151 [00:18<00:00,  8.30it/s]\n",
      "Epoch: 12 // Running Loss: 381.831 // Accuracy: 0.175 : 100%|██████████| 151/151 [00:18<00:00,  8.30it/s]\n",
      "Epoch: 13 // Running Loss: 374.985 // Accuracy: 0.182 : 100%|██████████| 151/151 [00:18<00:00,  8.30it/s]\n",
      "Epoch: 14 // Running Loss: 369.121 // Accuracy: 0.189 : 100%|██████████| 151/151 [00:18<00:00,  8.25it/s]\n",
      "Epoch: 15 // Running Loss: 361.17 // Accuracy: 0.195 : 100%|██████████| 151/151 [00:18<00:00,  8.28it/s] \n",
      "Epoch: 16 // Running Loss: 354.763 // Accuracy: 0.202 : 100%|██████████| 151/151 [00:18<00:00,  8.32it/s]\n",
      "Epoch: 17 // Running Loss: 345.722 // Accuracy: 0.208 : 100%|██████████| 151/151 [00:18<00:00,  8.24it/s]\n",
      "Epoch: 18 // Running Loss: 338.263 // Accuracy: 0.215 : 100%|██████████| 151/151 [00:18<00:00,  8.32it/s]\n",
      "Epoch: 19 // Running Loss: 326.193 // Accuracy: 0.221 : 100%|██████████| 151/151 [00:18<00:00,  8.35it/s]\n",
      "Epoch: 20 // Running Loss: 314.478 // Accuracy: 0.228 : 100%|██████████| 151/151 [00:18<00:00,  8.34it/s]\n",
      "Epoch: 21 // Running Loss: 304.291 // Accuracy: 0.235 : 100%|██████████| 151/151 [00:17<00:00,  8.40it/s]\n",
      "Epoch: 22 // Running Loss: 286.674 // Accuracy: 0.242 : 100%|██████████| 151/151 [00:18<00:00,  8.32it/s]\n",
      "Epoch: 23 // Running Loss: 268.834 // Accuracy: 0.25 : 100%|██████████| 151/151 [00:18<00:00,  8.38it/s]\n",
      "Epoch: 24 // Running Loss: 250.06 // Accuracy: 0.259 : 100%|██████████| 151/151 [00:18<00:00,  8.24it/s] \n",
      "Epoch: 25 // Running Loss: 235.215 // Accuracy: 0.268 : 100%|██████████| 151/151 [00:18<00:00,  8.29it/s]\n",
      "Epoch: 26 // Running Loss: 207.562 // Accuracy: 0.278 : 100%|██████████| 151/151 [00:18<00:00,  8.33it/s]\n",
      "Epoch: 27 // Running Loss: 187.175 // Accuracy: 0.289 : 100%|██████████| 151/151 [00:18<00:00,  8.23it/s]\n",
      "Epoch: 28 // Running Loss: 156.759 // Accuracy: 0.301 : 100%|██████████| 151/151 [00:18<00:00,  8.36it/s]\n",
      "Epoch: 29 // Running Loss: 127.291 // Accuracy: 0.314 : 100%|██████████| 151/151 [00:18<00:00,  8.28it/s]\n",
      "Epoch: 30 // Running Loss: 107.842 // Accuracy: 0.328 : 100%|██████████| 151/151 [00:17<00:00,  8.39it/s]\n",
      "Epoch: 31 // Running Loss: 88.576 // Accuracy: 0.343 : 100%|██████████| 151/151 [00:18<00:00,  8.26it/s]\n",
      "Epoch: 32 // Running Loss: 75.08 // Accuracy: 0.358 : 100%|██████████| 151/151 [00:18<00:00,  8.16it/s] \n",
      "Epoch: 33 // Running Loss: 65.313 // Accuracy: 0.373 : 100%|██████████| 151/151 [00:18<00:00,  8.02it/s]\n",
      "Epoch: 34 // Running Loss: 57.048 // Accuracy: 0.388 : 100%|██████████| 151/151 [00:18<00:00,  8.01it/s]\n",
      "Epoch: 35 // Running Loss: 44.373 // Accuracy: 0.402 : 100%|██████████| 151/151 [00:18<00:00,  8.23it/s]\n",
      "Epoch: 36 // Running Loss: 39.144 // Accuracy: 0.417 : 100%|██████████| 151/151 [00:18<00:00,  8.28it/s]\n",
      "Epoch: 37 // Running Loss: 33.322 // Accuracy: 0.43 : 100%|██████████| 151/151 [00:18<00:00,  8.11it/s]\n",
      "Epoch: 38 // Running Loss: 28.319 // Accuracy: 0.444 : 100%|██████████| 151/151 [00:18<00:00,  8.32it/s]\n",
      "Epoch: 39 // Running Loss: 22.395 // Accuracy: 0.457 : 100%|██████████| 151/151 [00:18<00:00,  8.19it/s]\n",
      "Epoch: 40 // Running Loss: 21.455 // Accuracy: 0.47 : 100%|██████████| 151/151 [00:18<00:00,  8.30it/s]\n"
     ]
    },
    {
     "name": "stdout",
     "output_type": "stream",
     "text": [
      "Calculating Metrics ...\n"
     ]
    },
    {
     "name": "stderr",
     "output_type": "stream",
     "text": [
      "Calculate Acc. on Train Data: 100%|██████████| 151/151 [00:17<00:00,  8.41it/s]\n",
      "Calculate Acc. on Test Data: 100%|██████████| 38/38 [00:05<00:00,  6.66it/s]\n"
     ]
    }
   ],
   "source": [
    "metrics = train_network_kfold(model=opt_model, train_data=train_data, \n",
    "                              test_data=test_data, criterion=criterion, \n",
    "                              optimizer=optimizer, n_epochs=100, \n",
    "                              k_folds=5, batch_sizes=150, epsilon=10)"
   ]
  },
  {
   "cell_type": "code",
   "execution_count": 23,
   "metadata": {},
   "outputs": [
    {
     "data": {
      "image/png": "[encoded data removed]",
      "text/plain": [
       "<Figure size 1296x288 with 2 Axes>"
      ]
     },
     "metadata": {
      "needs_background": "light"
     },
     "output_type": "display_data"
    },
    {
     "data": {
      "text/plain": [
       "<Figure size 432x288 with 0 Axes>"
      ]
     },
     "metadata": {},
     "output_type": "display_data"
    }
   ],
   "source": [
    "plot = plot_cv_metrics(metrics)\n",
    "plt.savefig('FlatAlexNetOpt_cv_error')"
   ]
  },
  {
   "cell_type": "code",
   "execution_count": 24,
   "metadata": {},
   "outputs": [
    {
     "data": {
      "text/plain": [
       "{0: {'accuracy': [0.9691095769162683, 0.21543636041777306],\n",
       "  'precision': [0.9698071344237552, 0.20733203271397485]},\n",
       " 1: {'accuracy': [0.9770755885997522, 0.2331386086032926],\n",
       "  'precision': [0.977285169865112, 0.22921237645610074]},\n",
       " 2: {'accuracy': [0.9696848999822978, 0.20693928128872366],\n",
       "  'precision': [0.9703267516352565, 0.2052948846315729]},\n",
       " 3: {'accuracy': [0.9694636218799788, 0.21047973092582759],\n",
       "  'precision': [0.9703234156129243, 0.21844476210327407]},\n",
       " 4: {'accuracy': [0.9596831297574792, 0.225349619401664],\n",
       "  'precision': [0.9617201356675508, 0.24876754218602945]}}"
      ]
     },
     "execution_count": 24,
     "metadata": {},
     "output_type": "execute_result"
    }
   ],
   "source": [
    "metrics"
   ]
  }
 ],
 "metadata": {
  "kernelspec": {
   "display_name": "Python 3",
   "language": "python",
   "name": "python3"
  },
  "language_info": {
   "codemirror_mode": {
    "name": "ipython",
    "version": 3
   },
   "file_extension": ".py",
   "mimetype": "text/x-python",
   "name": "python",
   "nbconvert_exporter": "python",
   "pygments_lexer": "ipython3",
   "version": "3.8.5"
  }
 },
 "nbformat": 4,
 "nbformat_minor": 5
}
