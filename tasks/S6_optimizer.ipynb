{
 "cells": [
  {
   "cell_type": "code",
   "execution_count": 1,
   "metadata": {},
   "outputs": [],
   "source": [
    "import sys\n",
    "sys.path.append('..')\n",
    "import os\n",
    "import shutil\n",
    "import numpy as np\n",
    "from tqdm import tqdm\n",
    "from tqdm.contrib.concurrent import process_map\n",
    "import matplotlib.pyplot as plt\n",
    "import PIL\n",
    "from PIL import Image\n",
    "import random\n",
    "import seaborn as sns\n",
    "import pandas as pd\n",
    "import pickle\n",
    "\n",
    "from multiprocess import Pool\n",
    "from program.helper import *\n",
    "from program.mlp_optimization import *\n",
    "from program.utility import *\n",
    "\n",
    "import torch\n",
    "from torchvision.datasets import ImageFolder\n",
    "from torchvision.transforms import Compose, Resize, CenterCrop, ToTensor, Normalize\n",
    "from torch.utils.data import DataLoader\n",
    "from torchvision.transforms.functional import to_pil_image\n",
    "import torch.nn as nn\n",
    "import torch.nn.functional as F\n",
    "import torch.optim as optim\n",
    "\n",
    "from sklearn.metrics import confusion_matrix\n",
    "from sklearn.metrics import accuracy_score, precision_score\n",
    "from sklearn.model_selection import KFold"
   ]
  },
  {
   "cell_type": "code",
   "execution_count": 2,
   "metadata": {},
   "outputs": [],
   "source": [
    "with open('../program/label_translator.pkl', 'rb') as pkl_file:\n",
    "    label_translator = pickle.load(pkl_file)"
   ]
  },
  {
   "cell_type": "markdown",
   "metadata": {},
   "source": [
    "## Pre-Processing"
   ]
  },
  {
   "cell_type": "code",
   "execution_count": 3,
   "metadata": {},
   "outputs": [],
   "source": [
    "# Define a Composal of image transformation used for image load\n",
    "transform_images = Compose([Resize((227, 227)), \n",
    "                            ToTensor(),\n",
    "                            Normalize(mean=[0.485, 0.456, 0.406], std=[0.229, 0.224, 0.225])])"
   ]
  },
  {
   "cell_type": "code",
   "execution_count": 4,
   "metadata": {},
   "outputs": [],
   "source": [
    "train_data = ImageFolder(\"../data/train\", transform=transform_images)\n",
    "test_data = ImageFolder(\"../data/test\", transform=transform_images)"
   ]
  },
  {
   "cell_type": "code",
   "execution_count": 5,
   "metadata": {},
   "outputs": [],
   "source": [
    "dataloader_train = DataLoader(train_data, batch_size=150, shuffle=True, \n",
    "                              num_workers=24, pin_memory=True)\n",
    "dataloader_test = DataLoader(test_data, batch_size=150, shuffle=True, \n",
    "                             num_workers=24, pin_memory=True)"
   ]
  },
  {
   "cell_type": "markdown",
   "metadata": {},
   "source": [
    "# S6: Anwendung Adam-Optimizer"
   ]
  },
  {
   "cell_type": "code",
   "execution_count": 6,
   "metadata": {},
   "outputs": [],
   "source": [
    "from networks import FlatAlexNetBN"
   ]
  },
  {
   "cell_type": "code",
   "execution_count": 7,
   "metadata": {},
   "outputs": [
    {
     "name": "stdout",
     "output_type": "stream",
     "text": [
      "==================================================\n",
      "Trainable Parameters: 72790133\n",
      "==================================================\n"
     ]
    }
   ],
   "source": [
    "model_adam_opt = FlatAlexNetBN(n_classes=28)\n",
    "criterion = nn.CrossEntropyLoss()\n",
    "optimizer = optim.Adam(model_adam_opt.parameters(), lr=0.001)\n",
    "dtype = torch.float32\n",
    "print_total_params(model_adam_opt)"
   ]
  },
  {
   "cell_type": "code",
   "execution_count": 18,
   "metadata": {},
   "outputs": [
    {
     "name": "stdout",
     "output_type": "stream",
     "text": [
      "==================== Fold 0 ====================\n"
     ]
    },
    {
     "name": "stderr",
     "output_type": "stream",
     "text": [
      "Epoch: 40/40 // Running Loss: 16.868 // Accuracy: 0.662 : 100%|██████████| 5680/5680 [12:06<00:00,  7.82it/s] \n"
     ]
    },
    {
     "name": "stdout",
     "output_type": "stream",
     "text": [
      "Calculating Metrics ...\n"
     ]
    },
    {
     "name": "stderr",
     "output_type": "stream",
     "text": [
      "Calculate Acc. on Train Data: 100%|██████████| 142/142 [00:17<00:00,  8.00it/s]\n",
      "Calculate Acc. on Test Data: 100%|██████████| 36/36 [00:05<00:00,  6.73it/s]"
     ]
    },
    {
     "name": "stdout",
     "output_type": "stream",
     "text": [
      "==================== Fold 1 ====================\n"
     ]
    },
    {
     "name": "stderr",
     "output_type": "stream",
     "text": [
      "\n",
      "Epoch: 40/40 // Running Loss: 14.467 // Accuracy: 0.65 : 100%|██████████| 5680/5680 [12:08<00:00,  7.79it/s]  \n"
     ]
    },
    {
     "name": "stdout",
     "output_type": "stream",
     "text": [
      "Calculating Metrics ...\n"
     ]
    },
    {
     "name": "stderr",
     "output_type": "stream",
     "text": [
      "Calculate Acc. on Train Data: 100%|██████████| 142/142 [00:17<00:00,  7.99it/s]\n",
      "Calculate Acc. on Test Data: 100%|██████████| 36/36 [00:05<00:00,  6.76it/s]"
     ]
    },
    {
     "name": "stdout",
     "output_type": "stream",
     "text": [
      "==================== Fold 2 ====================\n"
     ]
    },
    {
     "name": "stderr",
     "output_type": "stream",
     "text": [
      "\n",
      "Epoch: 40/40 // Running Loss: 11.483 // Accuracy: 0.716 : 100%|██████████| 5680/5680 [12:01<00:00,  7.87it/s] \n"
     ]
    },
    {
     "name": "stdout",
     "output_type": "stream",
     "text": [
      "Calculating Metrics ...\n"
     ]
    },
    {
     "name": "stderr",
     "output_type": "stream",
     "text": [
      "Calculate Acc. on Train Data: 100%|██████████| 142/142 [00:17<00:00,  8.07it/s]\n",
      "Calculate Acc. on Test Data: 100%|██████████| 36/36 [00:05<00:00,  6.84it/s]\n"
     ]
    },
    {
     "name": "stdout",
     "output_type": "stream",
     "text": [
      "==================== Fold 3 ====================\n"
     ]
    },
    {
     "name": "stderr",
     "output_type": "stream",
     "text": [
      "Epoch: 40/40 // Running Loss: 9.934 // Accuracy: 0.725 : 100%|██████████| 5680/5680 [12:03<00:00,  7.85it/s]  \n"
     ]
    },
    {
     "name": "stdout",
     "output_type": "stream",
     "text": [
      "Calculating Metrics ...\n"
     ]
    },
    {
     "name": "stderr",
     "output_type": "stream",
     "text": [
      "Calculate Acc. on Train Data: 100%|██████████| 142/142 [00:17<00:00,  8.07it/s]\n",
      "Calculate Acc. on Test Data: 100%|██████████| 36/36 [00:05<00:00,  6.74it/s]\n"
     ]
    },
    {
     "name": "stdout",
     "output_type": "stream",
     "text": [
      "==================== Fold 4 ====================\n"
     ]
    },
    {
     "name": "stderr",
     "output_type": "stream",
     "text": [
      "Epoch: 40/40 // Running Loss: 13.41 // Accuracy: 0.745 : 100%|██████████| 5680/5680 [12:01<00:00,  7.87it/s]  \n"
     ]
    },
    {
     "name": "stdout",
     "output_type": "stream",
     "text": [
      "Calculating Metrics ...\n"
     ]
    },
    {
     "name": "stderr",
     "output_type": "stream",
     "text": [
      "Calculate Acc. on Train Data: 100%|██████████| 142/142 [00:17<00:00,  8.11it/s]\n",
      "Calculate Acc. on Test Data: 100%|██████████| 36/36 [00:05<00:00,  6.98it/s]\n"
     ]
    }
   ],
   "source": [
    "metrics = train_network_kfold(model=model_adam_opt, train_data=train_data, test_data=test_data,\n",
    "                              criterion=criterion, optimizer=optimizer, n_epochs=40, k_folds=5, batch_sizes=160)"
   ]
  },
  {
   "cell_type": "code",
   "execution_count": 19,
   "metadata": {},
   "outputs": [],
   "source": [
    "save_file = False\n",
    "\n",
    "if save_file:\n",
    "    with open('./saved/s6_optimizer_adam.pkl', 'wb') as pkl_file:\n",
    "        pickle.dump(metrics, pkl_file)"
   ]
  },
  {
   "cell_type": "code",
   "execution_count": 8,
   "metadata": {},
   "outputs": [
    {
     "name": "stdout",
     "output_type": "stream",
     "text": [
      "==================================================\n",
      "Trainable Parameters: 72790133\n",
      "==================================================\n"
     ]
    }
   ],
   "source": [
    "model_sgd = FlatAlexNetBN(n_classes=28)\n",
    "criterion = nn.CrossEntropyLoss()\n",
    "optimizer = optim.SGD(model_sgd.parameters(),  lr=.008, momentum=.95)\n",
    "dtype = torch.float32\n",
    "print_total_params(model_sgd)"
   ]
  },
  {
   "cell_type": "code",
   "execution_count": 21,
   "metadata": {},
   "outputs": [
    {
     "name": "stdout",
     "output_type": "stream",
     "text": [
      "==================== Fold 0 ====================\n"
     ]
    },
    {
     "name": "stderr",
     "output_type": "stream",
     "text": [
      "Epoch: 40/40 // Running Loss: 13.472 // Accuracy: 0.628 : 100%|██████████| 5680/5680 [11:58<00:00,  7.91it/s] \n"
     ]
    },
    {
     "name": "stdout",
     "output_type": "stream",
     "text": [
      "Calculating Metrics ...\n"
     ]
    },
    {
     "name": "stderr",
     "output_type": "stream",
     "text": [
      "Calculate Acc. on Train Data: 100%|██████████| 142/142 [00:17<00:00,  8.29it/s]\n",
      "Calculate Acc. on Test Data: 100%|██████████| 36/36 [00:05<00:00,  6.75it/s]"
     ]
    },
    {
     "name": "stdout",
     "output_type": "stream",
     "text": [
      "==================== Fold 1 ====================\n"
     ]
    },
    {
     "name": "stderr",
     "output_type": "stream",
     "text": [
      "\n",
      "Epoch: 40/40 // Running Loss: 9.404 // Accuracy: 0.67 : 100%|██████████| 5680/5680 [12:03<00:00,  7.85it/s]   \n"
     ]
    },
    {
     "name": "stdout",
     "output_type": "stream",
     "text": [
      "Calculating Metrics ...\n"
     ]
    },
    {
     "name": "stderr",
     "output_type": "stream",
     "text": [
      "Calculate Acc. on Train Data: 100%|██████████| 142/142 [00:17<00:00,  8.10it/s]\n",
      "Calculate Acc. on Test Data: 100%|██████████| 36/36 [00:05<00:00,  6.80it/s]"
     ]
    },
    {
     "name": "stdout",
     "output_type": "stream",
     "text": [
      "==================== Fold 2 ====================\n"
     ]
    },
    {
     "name": "stderr",
     "output_type": "stream",
     "text": [
      "\n",
      "Epoch: 40/40 // Running Loss: 4.88 // Accuracy: 0.686 : 100%|██████████| 5680/5680 [19:18<00:00,  4.90it/s]   \n"
     ]
    },
    {
     "name": "stdout",
     "output_type": "stream",
     "text": [
      "Calculating Metrics ...\n"
     ]
    },
    {
     "name": "stderr",
     "output_type": "stream",
     "text": [
      "Calculate Acc. on Train Data: 100%|██████████| 142/142 [00:17<00:00,  8.30it/s]\n",
      "Calculate Acc. on Test Data: 100%|██████████| 36/36 [00:05<00:00,  6.92it/s]"
     ]
    },
    {
     "name": "stdout",
     "output_type": "stream",
     "text": [
      "==================== Fold 3 ====================\n"
     ]
    },
    {
     "name": "stderr",
     "output_type": "stream",
     "text": [
      "\n",
      "Epoch: 40/40 // Running Loss: 2.839 // Accuracy: 0.73 : 100%|██████████| 5680/5680 [12:02<00:00,  7.86it/s]   \n"
     ]
    },
    {
     "name": "stdout",
     "output_type": "stream",
     "text": [
      "Calculating Metrics ...\n"
     ]
    },
    {
     "name": "stderr",
     "output_type": "stream",
     "text": [
      "Calculate Acc. on Train Data: 100%|██████████| 142/142 [00:17<00:00,  8.22it/s]\n",
      "Calculate Acc. on Test Data: 100%|██████████| 36/36 [00:05<00:00,  6.75it/s]"
     ]
    },
    {
     "name": "stdout",
     "output_type": "stream",
     "text": [
      "==================== Fold 4 ====================\n"
     ]
    },
    {
     "name": "stderr",
     "output_type": "stream",
     "text": [
      "\n",
      "Epoch: 40/40 // Running Loss: 7.1 // Accuracy: 0.739 : 100%|██████████| 5680/5680 [12:04<00:00,  7.85it/s]    \n"
     ]
    },
    {
     "name": "stdout",
     "output_type": "stream",
     "text": [
      "Calculating Metrics ...\n"
     ]
    },
    {
     "name": "stderr",
     "output_type": "stream",
     "text": [
      "Calculate Acc. on Train Data: 100%|██████████| 142/142 [00:17<00:00,  7.98it/s]\n",
      "Calculate Acc. on Test Data: 100%|██████████| 36/36 [00:05<00:00,  6.75it/s]\n"
     ]
    }
   ],
   "source": [
    "metrics_opt = train_network_kfold(model=model_sgd, train_data=train_data, test_data=test_data,\n",
    "                                  criterion=criterion, optimizer=optimizer, n_epochs=40, k_folds=5, \n",
    "                                  batch_sizes=160)"
   ]
  },
  {
   "cell_type": "code",
   "execution_count": 22,
   "metadata": {},
   "outputs": [],
   "source": [
    "if save_file:\n",
    "    with open('./saved/s6_optimizer_sgd.pkl', 'wb') as pkl_file:\n",
    "        pickle.dump(metrics_opt, pkl_file)"
   ]
  },
  {
   "cell_type": "markdown",
   "metadata": {},
   "source": [
    "### Analyze Results"
   ]
  },
  {
   "cell_type": "code",
   "execution_count": 30,
   "metadata": {},
   "outputs": [],
   "source": [
    "with open('./saved/s6_optimizer_adam.pkl', 'rb') as pkl_file:\n",
    "    metrics_adam = pickle.load(pkl_file)"
   ]
  },
  {
   "cell_type": "code",
   "execution_count": 39,
   "metadata": {},
   "outputs": [
    {
     "data": {
      "text/html": [
       "<div>\n",
       "<style scoped>\n",
       "    .dataframe tbody tr th:only-of-type {\n",
       "        vertical-align: middle;\n",
       "    }\n",
       "\n",
       "    .dataframe tbody tr th {\n",
       "        vertical-align: top;\n",
       "    }\n",
       "\n",
       "    .dataframe thead th {\n",
       "        text-align: right;\n",
       "    }\n",
       "</style>\n",
       "<table border=\"1\" class=\"dataframe\">\n",
       "  <thead>\n",
       "    <tr style=\"text-align: right;\">\n",
       "      <th></th>\n",
       "      <th>0</th>\n",
       "      <th>1</th>\n",
       "      <th>2</th>\n",
       "      <th>3</th>\n",
       "      <th>4</th>\n",
       "    </tr>\n",
       "  </thead>\n",
       "  <tbody>\n",
       "    <tr>\n",
       "      <th>0</th>\n",
       "      <td>3.424857</td>\n",
       "      <td>3.413834</td>\n",
       "      <td>3.358531</td>\n",
       "      <td>3.338610</td>\n",
       "      <td>3.344947</td>\n",
       "    </tr>\n",
       "    <tr>\n",
       "      <th>1</th>\n",
       "      <td>4.488210</td>\n",
       "      <td>4.520852</td>\n",
       "      <td>3.782523</td>\n",
       "      <td>3.530632</td>\n",
       "      <td>3.616733</td>\n",
       "    </tr>\n",
       "  </tbody>\n",
       "</table>\n",
       "</div>"
      ],
      "text/plain": [
       "          0         1         2         3         4\n",
       "0  3.424857  3.413834  3.358531  3.338610  3.344947\n",
       "1  4.488210  4.520852  3.782523  3.530632  3.616733"
      ]
     },
     "execution_count": 39,
     "metadata": {},
     "output_type": "execute_result"
    }
   ],
   "source": [
    "losses_adam = pd.DataFrame.from_dict({key:val['losses'] for key, val in metrics_adam.items()})\n",
    "losses_adam.head(2)"
   ]
  },
  {
   "cell_type": "code",
   "execution_count": 31,
   "metadata": {},
   "outputs": [],
   "source": [
    "with open('./saved/s6_optimizer_sgd.pkl', 'rb') as pkl_file:\n",
    "    metrics_sgd = pickle.load(pkl_file)"
   ]
  },
  {
   "cell_type": "code",
   "execution_count": 40,
   "metadata": {},
   "outputs": [
    {
     "data": {
      "text/html": [
       "<div>\n",
       "<style scoped>\n",
       "    .dataframe tbody tr th:only-of-type {\n",
       "        vertical-align: middle;\n",
       "    }\n",
       "\n",
       "    .dataframe tbody tr th {\n",
       "        vertical-align: top;\n",
       "    }\n",
       "\n",
       "    .dataframe thead th {\n",
       "        text-align: right;\n",
       "    }\n",
       "</style>\n",
       "<table border=\"1\" class=\"dataframe\">\n",
       "  <thead>\n",
       "    <tr style=\"text-align: right;\">\n",
       "      <th></th>\n",
       "      <th>0</th>\n",
       "      <th>1</th>\n",
       "      <th>2</th>\n",
       "      <th>3</th>\n",
       "      <th>4</th>\n",
       "    </tr>\n",
       "  </thead>\n",
       "  <tbody>\n",
       "    <tr>\n",
       "      <th>0</th>\n",
       "      <td>3.453862</td>\n",
       "      <td>3.387807</td>\n",
       "      <td>3.382580</td>\n",
       "      <td>3.410423</td>\n",
       "      <td>3.319844</td>\n",
       "    </tr>\n",
       "    <tr>\n",
       "      <th>1</th>\n",
       "      <td>3.362001</td>\n",
       "      <td>3.408021</td>\n",
       "      <td>3.348893</td>\n",
       "      <td>3.405629</td>\n",
       "      <td>3.343098</td>\n",
       "    </tr>\n",
       "  </tbody>\n",
       "</table>\n",
       "</div>"
      ],
      "text/plain": [
       "          0         1         2         3         4\n",
       "0  3.453862  3.387807  3.382580  3.410423  3.319844\n",
       "1  3.362001  3.408021  3.348893  3.405629  3.343098"
      ]
     },
     "execution_count": 40,
     "metadata": {},
     "output_type": "execute_result"
    }
   ],
   "source": [
    "losses_sgd = pd.DataFrame.from_dict({key:val['losses'] for key, val in metrics_sgd.items()})\n",
    "losses_sgd.head(2)"
   ]
  },
  {
   "cell_type": "code",
   "execution_count": 75,
   "metadata": {},
   "outputs": [
    {
     "data": {
      "image/png": "[encoded data removed]",
      "text/plain": [
       "<Figure size 1296x360 with 2 Axes>"
      ]
     },
     "metadata": {},
     "output_type": "display_data"
    }
   ],
   "source": [
    "colors = sns.color_palette('Paired', 4)\n",
    "sns.set_style('white')\n",
    "\n",
    "fig = plt.subplots(figsize=(18, 5))\n",
    "\n",
    "sma = 50\n",
    "\n",
    "plt.subplot(1,2,1)\n",
    "mean_loss_folds = losses_adam.mean(axis=1)\n",
    "mean_loss_folds = mean_loss_folds.rolling(sma).mean()\n",
    "std_loss_folds = losses_adam.std(axis=1)\n",
    "std_loss_folds = std_loss_folds.rolling(sma).mean()\n",
    "\n",
    "p = sns.lineplot(x=mean_loss_folds.index, y=mean_loss_folds, label='Mean Batch', color=colors[1])\n",
    "p = sns.lineplot(x=mean_loss_folds.index, y=mean_loss_folds + std_loss_folds, \n",
    "                 label=r'$\\pm1\\sigma$', color=colors[0], linestyle='--', alpha=.5)\n",
    "p = sns.lineplot(x=mean_loss_folds.index, y=mean_loss_folds - std_loss_folds, \n",
    "                 color=colors[0], linestyle='--', alpha=.5)\n",
    "plt.text(x=mean_loss_folds.index[-1], y=mean_loss_folds.iloc[-1], \n",
    "         s=str(round(mean_loss_folds.iloc[-1], 2)), va='center')\n",
    "p.set_title(f'Loss over Batches Adam-Optimizer / SMA{50}',loc='left')\n",
    "p.set_xlabel('Batches')\n",
    "p.set_ylabel('Cross-Entropy Loss')\n",
    "sns.despine()\n",
    "\n",
    "plt.subplot(1,2,2)\n",
    "mean_loss_folds = losses_sgd.mean(axis=1)\n",
    "mean_loss_folds = mean_loss_folds.rolling(sma).mean()\n",
    "std_loss_folds = losses_sgd.std(axis=1)\n",
    "std_loss_folds = std_loss_folds.rolling(sma).mean()\n",
    "\n",
    "p = sns.lineplot(x=mean_loss_folds.index, y=mean_loss_folds, label='Mean Batch', \n",
    "                 color=colors[3])\n",
    "p = sns.lineplot(x=mean_loss_folds.index, y=mean_loss_folds + std_loss_folds, \n",
    "                 label=r'$\\pm1\\sigma$', color=colors[2], linestyle='--', alpha=.5)\n",
    "p = sns.lineplot(x=mean_loss_folds.index, y=mean_loss_folds - std_loss_folds,\n",
    "                 color=colors[2], linestyle='--', alpha=.5)\n",
    "plt.text(x=mean_loss_folds.index[-1], y=mean_loss_folds.iloc[-1], \n",
    "         s=str(round(mean_loss_folds.iloc[-1], 2)), va='center')\n",
    "p.set_title(f'Loss over Batches with SGD-Optimizer / SMA{50}',loc='left')\n",
    "p.set_xlabel('Batches')\n",
    "sns.despine()\n",
    "\n",
    "plt.show()"
   ]
  },
  {
   "cell_type": "markdown",
   "metadata": {},
   "source": [
    "-----------"
   ]
  },
  {
   "cell_type": "markdown",
   "metadata": {},
   "source": [
    "### Metriken"
   ]
  },
  {
   "cell_type": "code",
   "execution_count": 81,
   "metadata": {},
   "outputs": [
    {
     "data": {
      "text/html": [
       "<div>\n",
       "<style scoped>\n",
       "    .dataframe tbody tr th:only-of-type {\n",
       "        vertical-align: middle;\n",
       "    }\n",
       "\n",
       "    .dataframe tbody tr th {\n",
       "        vertical-align: top;\n",
       "    }\n",
       "\n",
       "    .dataframe thead th {\n",
       "        text-align: right;\n",
       "    }\n",
       "</style>\n",
       "<table border=\"1\" class=\"dataframe\">\n",
       "  <thead>\n",
       "    <tr style=\"text-align: right;\">\n",
       "      <th></th>\n",
       "      <th>Accuracy</th>\n",
       "      <th>Precision</th>\n",
       "      <th>set</th>\n",
       "      <th>type</th>\n",
       "    </tr>\n",
       "  </thead>\n",
       "  <tbody>\n",
       "    <tr>\n",
       "      <th>0</th>\n",
       "      <td>0.979067</td>\n",
       "      <td>0.979409</td>\n",
       "      <td>train</td>\n",
       "      <td>Adam</td>\n",
       "    </tr>\n",
       "    <tr>\n",
       "      <th>1</th>\n",
       "      <td>0.23066</td>\n",
       "      <td>0.227687</td>\n",
       "      <td>test</td>\n",
       "      <td>Adam</td>\n",
       "    </tr>\n",
       "  </tbody>\n",
       "</table>\n",
       "</div>"
      ],
      "text/plain": [
       "   Accuracy Precision    set  type\n",
       "0  0.979067  0.979409  train  Adam\n",
       "1   0.23066  0.227687   test  Adam"
      ]
     },
     "execution_count": 81,
     "metadata": {},
     "output_type": "execute_result"
    }
   ],
   "source": [
    "adam = pd.DataFrame.from_dict({key:val['metrics'] for key, val in metrics_adam.items()}).T\n",
    "tmp = adam.explode('accuracy')['accuracy']\n",
    "adam = adam.explode('precision')['precision']\n",
    "adam = pd.concat([tmp, adam], axis=1, ignore_index=True)\n",
    "adam.columns = ['Accuracy', 'Precision']\n",
    "adam = adam.reset_index(drop=True)\n",
    "adam['set'] = ['train' if i%2==0 else 'test' for i in range(adam.shape[0])]\n",
    "adam['type'] = 'Adam'\n",
    "adam.head(2)"
   ]
  },
  {
   "cell_type": "code",
   "execution_count": 82,
   "metadata": {},
   "outputs": [
    {
     "data": {
      "text/html": [
       "<div>\n",
       "<style scoped>\n",
       "    .dataframe tbody tr th:only-of-type {\n",
       "        vertical-align: middle;\n",
       "    }\n",
       "\n",
       "    .dataframe tbody tr th {\n",
       "        vertical-align: top;\n",
       "    }\n",
       "\n",
       "    .dataframe thead th {\n",
       "        text-align: right;\n",
       "    }\n",
       "</style>\n",
       "<table border=\"1\" class=\"dataframe\">\n",
       "  <thead>\n",
       "    <tr style=\"text-align: right;\">\n",
       "      <th></th>\n",
       "      <th>Accuracy</th>\n",
       "      <th>Precision</th>\n",
       "      <th>set</th>\n",
       "      <th>type</th>\n",
       "    </tr>\n",
       "  </thead>\n",
       "  <tbody>\n",
       "    <tr>\n",
       "      <th>0</th>\n",
       "      <td>0.989246</td>\n",
       "      <td>0.989317</td>\n",
       "      <td>train</td>\n",
       "      <td>SGD</td>\n",
       "    </tr>\n",
       "    <tr>\n",
       "      <th>1</th>\n",
       "      <td>0.195256</td>\n",
       "      <td>0.198596</td>\n",
       "      <td>test</td>\n",
       "      <td>SGD</td>\n",
       "    </tr>\n",
       "  </tbody>\n",
       "</table>\n",
       "</div>"
      ],
      "text/plain": [
       "   Accuracy Precision    set type\n",
       "0  0.989246  0.989317  train  SGD\n",
       "1  0.195256  0.198596   test  SGD"
      ]
     },
     "execution_count": 82,
     "metadata": {},
     "output_type": "execute_result"
    }
   ],
   "source": [
    "sgd = pd.DataFrame.from_dict({key:val['metrics'] for key, val in metrics_sgd.items()}).T\n",
    "tmp = sgd.explode('accuracy')['accuracy']\n",
    "sgd = sgd.explode('precision')['precision']\n",
    "sgd = pd.concat([tmp, sgd], axis=1, ignore_index=True)\n",
    "sgd.columns = ['Accuracy', 'Precision']\n",
    "sgd = sgd.reset_index(drop=True)\n",
    "sgd['set'] = ['train' if i%2==0 else 'test' for i in range(sgd.shape[0])]\n",
    "sgd['type'] = 'SGD'\n",
    "sgd.head(2)"
   ]
  },
  {
   "cell_type": "code",
   "execution_count": 83,
   "metadata": {},
   "outputs": [
    {
     "data": {
      "text/html": [
       "<div>\n",
       "<style scoped>\n",
       "    .dataframe tbody tr th:only-of-type {\n",
       "        vertical-align: middle;\n",
       "    }\n",
       "\n",
       "    .dataframe tbody tr th {\n",
       "        vertical-align: top;\n",
       "    }\n",
       "\n",
       "    .dataframe thead th {\n",
       "        text-align: right;\n",
       "    }\n",
       "</style>\n",
       "<table border=\"1\" class=\"dataframe\">\n",
       "  <thead>\n",
       "    <tr style=\"text-align: right;\">\n",
       "      <th></th>\n",
       "      <th>Accuracy</th>\n",
       "      <th>Precision</th>\n",
       "      <th>set</th>\n",
       "      <th>type</th>\n",
       "    </tr>\n",
       "  </thead>\n",
       "  <tbody>\n",
       "    <tr>\n",
       "      <th>0</th>\n",
       "      <td>0.989246</td>\n",
       "      <td>0.989317</td>\n",
       "      <td>train</td>\n",
       "      <td>SGD</td>\n",
       "    </tr>\n",
       "    <tr>\n",
       "      <th>1</th>\n",
       "      <td>0.195256</td>\n",
       "      <td>0.198596</td>\n",
       "      <td>test</td>\n",
       "      <td>SGD</td>\n",
       "    </tr>\n",
       "  </tbody>\n",
       "</table>\n",
       "</div>"
      ],
      "text/plain": [
       "   Accuracy Precision    set type\n",
       "0  0.989246  0.989317  train  SGD\n",
       "1  0.195256  0.198596   test  SGD"
      ]
     },
     "execution_count": 83,
     "metadata": {},
     "output_type": "execute_result"
    }
   ],
   "source": [
    "df = pd.concat([sgd, adam], axis=0)\n",
    "df.head(2)"
   ]
  },
  {
   "cell_type": "code",
   "execution_count": 84,
   "metadata": {},
   "outputs": [
    {
     "data": {
      "text/html": [
       "<div>\n",
       "<style scoped>\n",
       "    .dataframe tbody tr th:only-of-type {\n",
       "        vertical-align: middle;\n",
       "    }\n",
       "\n",
       "    .dataframe tbody tr th {\n",
       "        vertical-align: top;\n",
       "    }\n",
       "\n",
       "    .dataframe thead th {\n",
       "        text-align: right;\n",
       "    }\n",
       "</style>\n",
       "<table border=\"1\" class=\"dataframe\">\n",
       "  <thead>\n",
       "    <tr style=\"text-align: right;\">\n",
       "      <th></th>\n",
       "      <th>set</th>\n",
       "      <th>optimizer</th>\n",
       "      <th>metric</th>\n",
       "      <th>score</th>\n",
       "    </tr>\n",
       "  </thead>\n",
       "  <tbody>\n",
       "    <tr>\n",
       "      <th>0</th>\n",
       "      <td>train</td>\n",
       "      <td>SGD</td>\n",
       "      <td>Accuracy</td>\n",
       "      <td>0.989246</td>\n",
       "    </tr>\n",
       "    <tr>\n",
       "      <th>1</th>\n",
       "      <td>test</td>\n",
       "      <td>SGD</td>\n",
       "      <td>Accuracy</td>\n",
       "      <td>0.195256</td>\n",
       "    </tr>\n",
       "  </tbody>\n",
       "</table>\n",
       "</div>"
      ],
      "text/plain": [
       "     set optimizer    metric     score\n",
       "0  train       SGD  Accuracy  0.989246\n",
       "1   test       SGD  Accuracy  0.195256"
      ]
     },
     "execution_count": 84,
     "metadata": {},
     "output_type": "execute_result"
    }
   ],
   "source": [
    "df = df.reset_index(drop=True)\n",
    "df = df.melt(id_vars=['set', 'type'])\n",
    "df.columns = ['set', 'optimizer','metric', 'score']\n",
    "df.head(2)"
   ]
  },
  {
   "cell_type": "code",
   "execution_count": 87,
   "metadata": {},
   "outputs": [
    {
     "data": {
      "image/png": "[encoded data removed]",
      "text/plain": [
       "<Figure size 1296x288 with 2 Axes>"
      ]
     },
     "metadata": {},
     "output_type": "display_data"
    }
   ],
   "source": [
    "fig = plt.subplots(figsize=(18, 4))\n",
    "\n",
    "sns.set_palette('Paired', 4)\n",
    "sns.set_style('whitegrid')\n",
    "plt.subplot(1,2,1)\n",
    "tmp = df[df['set'].str.contains('train')]\n",
    "p = sns.boxplot(data=tmp, x='metric', y='score', hue='optimizer', width=.8)\n",
    "p.set_title('Error Estimation of Metrics on Trainset', loc='left')\n",
    "p.set_xlabel('')\n",
    "p.set_ylabel('Score')\n",
    "\n",
    "plt.subplot(1,2,2)\n",
    "tmp = df[df['set'].str.contains('test')]\n",
    "p = sns.boxplot(data=tmp, x='metric', y='score' , hue='optimizer',width=.5)\n",
    "p.set_title('Error Estimation of Metrics on Testset', loc='left')\n",
    "#p.set_xticklabels(['Precision', 'Accuracy'])\n",
    "p.set_xlabel('')\n",
    "p.set_ylabel('Score')\n",
    "\n",
    "plt.show()"
   ]
  }
 ],
 "metadata": {
  "kernelspec": {
   "display_name": "Python 3",
   "language": "python",
   "name": "python3"
  },
  "language_info": {
   "codemirror_mode": {
    "name": "ipython",
    "version": 3
   },
   "file_extension": ".py",
   "mimetype": "text/x-python",
   "name": "python",
   "nbconvert_exporter": "python",
   "pygments_lexer": "ipython3",
   "version": "3.8.5"
  }
 },
 "nbformat": 4,
 "nbformat_minor": 5
}
