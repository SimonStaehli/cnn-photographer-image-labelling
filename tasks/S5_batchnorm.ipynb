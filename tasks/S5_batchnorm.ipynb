{
 "cells": [
  {
   "cell_type": "code",
   "execution_count": 1,
   "metadata": {},
   "outputs": [],
   "source": [
    "import sys\n",
    "sys.path.append('..')\n",
    "import os\n",
    "import shutil\n",
    "import numpy as np\n",
    "from tqdm import tqdm\n",
    "from tqdm.contrib.concurrent import process_map\n",
    "import matplotlib.pyplot as plt\n",
    "import PIL\n",
    "from PIL import Image\n",
    "import random\n",
    "import seaborn as sns\n",
    "import pandas as pd\n",
    "import pickle\n",
    "\n",
    "from multiprocess import Pool\n",
    "from program.helper import *\n",
    "from program.mlp_optimization import *\n",
    "from program.utility import *\n",
    "\n",
    "import torch\n",
    "from torchvision.datasets import ImageFolder\n",
    "from torchvision.transforms import Compose, Resize, CenterCrop, ToTensor, Normalize\n",
    "from torch.utils.data import DataLoader\n",
    "from torchvision.transforms.functional import to_pil_image\n",
    "import torch.nn as nn\n",
    "import torch.nn.functional as F\n",
    "import torch.optim as optim\n",
    "\n",
    "from sklearn.metrics import confusion_matrix\n",
    "from sklearn.metrics import accuracy_score, precision_score\n",
    "from sklearn.model_selection import KFold"
   ]
  },
  {
   "cell_type": "code",
   "execution_count": 4,
   "metadata": {},
   "outputs": [],
   "source": [
    "with open('../program/label_translator.pkl', 'rb') as pkl_file:\n",
    "    label_translator = pickle.load(pkl_file)"
   ]
  },
  {
   "cell_type": "markdown",
   "metadata": {},
   "source": [
    "## Pre-Processing"
   ]
  },
  {
   "cell_type": "code",
   "execution_count": 2,
   "metadata": {},
   "outputs": [],
   "source": [
    "# Define a Composal of image transformation used for image load\n",
    "transform_images = Compose([Resize((227, 227)), \n",
    "                            ToTensor(),\n",
    "                            Normalize(mean=[0.485, 0.456, 0.406], std=[0.229, 0.224, 0.225])])"
   ]
  },
  {
   "cell_type": "code",
   "execution_count": 4,
   "metadata": {},
   "outputs": [],
   "source": [
    "train_data = ImageFolder(\"../data/train\", transform=transform_images)\n",
    "test_data = ImageFolder(\"../data/test\", transform=transform_images)"
   ]
  },
  {
   "cell_type": "code",
   "execution_count": 5,
   "metadata": {},
   "outputs": [],
   "source": [
    "dataloader_train = DataLoader(train_data, batch_size=150, shuffle=True, \n",
    "                              num_workers=24, pin_memory=True)\n",
    "dataloader_test = DataLoader(test_data, batch_size=150, shuffle=True, \n",
    "                             num_workers=24, pin_memory=True)"
   ]
  },
  {
   "cell_type": "markdown",
   "metadata": {},
   "source": [
    "# S5: Anwendung Batchnorm\n",
    "\n",
    "Nutzung von Batchnorm ohne Regularisierung und mit Stochastic Gradient Descent.\n"
   ]
  },
  {
   "cell_type": "code",
   "execution_count": 6,
   "metadata": {},
   "outputs": [],
   "source": [
    "from networks import FlatAlexNetBN, FlatAlexNetOpt"
   ]
  },
  {
   "cell_type": "code",
   "execution_count": 7,
   "metadata": {},
   "outputs": [
    {
     "name": "stdout",
     "output_type": "stream",
     "text": [
      "==================================================\n",
      "Trainable Parameters: 72790133\n",
      "==================================================\n"
     ]
    }
   ],
   "source": [
    "batch_norm_model = FlatAlexNetBN(n_classes=28)\n",
    "criterion = nn.CrossEntropyLoss()\n",
    "optimizer = optim.SGD(batch_norm_model.parameters(),  lr=.008, momentum=.95)\n",
    "dtype = torch.float32\n",
    "print_total_params(batch_norm_model)"
   ]
  },
  {
   "cell_type": "code",
   "execution_count": 19,
   "metadata": {},
   "outputs": [
    {
     "name": "stdout",
     "output_type": "stream",
     "text": [
      "==================== Fold 0 ====================\n"
     ]
    },
    {
     "name": "stderr",
     "output_type": "stream",
     "text": [
      "Epoch: 40/40 // Running Loss: 18.784 // Accuracy: 0.625 : 100%|██████████| 6800/6800 [13:35<00:00,  8.34it/s] \n"
     ]
    },
    {
     "name": "stdout",
     "output_type": "stream",
     "text": [
      "Calculating Metrics ...\n"
     ]
    },
    {
     "name": "stderr",
     "output_type": "stream",
     "text": [
      "Calculate Acc. on Train Data: 100%|██████████| 170/170 [00:19<00:00,  8.62it/s]\n",
      "Calculate Acc. on Test Data: 100%|██████████| 19/19 [00:03<00:00,  5.75it/s]"
     ]
    },
    {
     "name": "stdout",
     "output_type": "stream",
     "text": [
      "==================== Fold 1 ====================\n"
     ]
    },
    {
     "name": "stderr",
     "output_type": "stream",
     "text": [
      "\n",
      "Epoch: 40/40 // Running Loss: 8.29 // Accuracy: 0.716 : 100%|██████████| 6800/6800 [13:46<00:00,  8.22it/s]   \n"
     ]
    },
    {
     "name": "stdout",
     "output_type": "stream",
     "text": [
      "Calculating Metrics ...\n"
     ]
    },
    {
     "name": "stderr",
     "output_type": "stream",
     "text": [
      "Calculate Acc. on Train Data: 100%|██████████| 170/170 [00:19<00:00,  8.81it/s]\n",
      "Calculate Acc. on Test Data: 100%|██████████| 19/19 [00:03<00:00,  6.08it/s]"
     ]
    },
    {
     "name": "stdout",
     "output_type": "stream",
     "text": [
      "==================== Fold 2 ====================\n"
     ]
    },
    {
     "name": "stderr",
     "output_type": "stream",
     "text": [
      "\n",
      "Epoch: 40/40 // Running Loss: 4.941 // Accuracy: 0.744 : 100%|██████████| 6800/6800 [13:25<00:00,  8.45it/s]  \n"
     ]
    },
    {
     "name": "stdout",
     "output_type": "stream",
     "text": [
      "Calculating Metrics ...\n"
     ]
    },
    {
     "name": "stderr",
     "output_type": "stream",
     "text": [
      "Calculate Acc. on Train Data: 100%|██████████| 170/170 [00:19<00:00,  8.74it/s]\n",
      "Calculate Acc. on Test Data: 100%|██████████| 19/19 [00:03<00:00,  6.19it/s]"
     ]
    },
    {
     "name": "stdout",
     "output_type": "stream",
     "text": [
      "==================== Fold 3 ====================\n"
     ]
    },
    {
     "name": "stderr",
     "output_type": "stream",
     "text": [
      "\n",
      "Epoch: 40/40 // Running Loss: 2.919 // Accuracy: 0.725 : 100%|██████████| 6800/6800 [13:17<00:00,  8.52it/s]  \n"
     ]
    },
    {
     "name": "stdout",
     "output_type": "stream",
     "text": [
      "Calculating Metrics ...\n"
     ]
    },
    {
     "name": "stderr",
     "output_type": "stream",
     "text": [
      "Calculate Acc. on Train Data: 100%|██████████| 170/170 [00:19<00:00,  8.68it/s]\n",
      "Calculate Acc. on Test Data: 100%|██████████| 19/19 [00:03<00:00,  5.54it/s]\n"
     ]
    },
    {
     "name": "stdout",
     "output_type": "stream",
     "text": [
      "==================== Fold 4 ====================\n"
     ]
    },
    {
     "name": "stderr",
     "output_type": "stream",
     "text": [
      "Epoch: 40/40 // Running Loss: 5.517 // Accuracy: 0.752 : 100%|██████████| 6800/6800 [13:26<00:00,  8.43it/s]  \n"
     ]
    },
    {
     "name": "stdout",
     "output_type": "stream",
     "text": [
      "Calculating Metrics ...\n"
     ]
    },
    {
     "name": "stderr",
     "output_type": "stream",
     "text": [
      "Calculate Acc. on Train Data: 100%|██████████| 170/170 [00:19<00:00,  8.69it/s]\n",
      "Calculate Acc. on Test Data: 100%|██████████| 19/19 [00:03<00:00,  5.88it/s]"
     ]
    },
    {
     "name": "stdout",
     "output_type": "stream",
     "text": [
      "==================== Fold 5 ====================\n"
     ]
    },
    {
     "name": "stderr",
     "output_type": "stream",
     "text": [
      "\n",
      "Epoch: 40/40 // Running Loss: 1.304 // Accuracy: 0.772 : 100%|██████████| 6800/6800 [13:21<00:00,  8.49it/s]  \n"
     ]
    },
    {
     "name": "stdout",
     "output_type": "stream",
     "text": [
      "Calculating Metrics ...\n"
     ]
    },
    {
     "name": "stderr",
     "output_type": "stream",
     "text": [
      "Calculate Acc. on Train Data: 100%|██████████| 170/170 [00:19<00:00,  8.72it/s]\n",
      "Calculate Acc. on Test Data: 100%|██████████| 19/19 [00:03<00:00,  5.96it/s]\n"
     ]
    },
    {
     "name": "stdout",
     "output_type": "stream",
     "text": [
      "==================== Fold 6 ====================\n"
     ]
    },
    {
     "name": "stderr",
     "output_type": "stream",
     "text": [
      "Epoch: 40/40 // Running Loss: 0.641 // Accuracy: 0.784 : 100%|██████████| 6800/6800 [13:23<00:00,  8.47it/s]  \n"
     ]
    },
    {
     "name": "stdout",
     "output_type": "stream",
     "text": [
      "Calculating Metrics ...\n"
     ]
    },
    {
     "name": "stderr",
     "output_type": "stream",
     "text": [
      "Calculate Acc. on Train Data: 100%|██████████| 170/170 [00:19<00:00,  8.61it/s]\n",
      "Calculate Acc. on Test Data: 100%|██████████| 19/19 [00:03<00:00,  6.08it/s]"
     ]
    },
    {
     "name": "stdout",
     "output_type": "stream",
     "text": [
      "==================== Fold 7 ====================\n"
     ]
    },
    {
     "name": "stderr",
     "output_type": "stream",
     "text": [
      "\n",
      "Epoch: 40/40 // Running Loss: 1.012 // Accuracy: 0.801 : 100%|██████████| 6800/6800 [13:22<00:00,  8.48it/s]  \n"
     ]
    },
    {
     "name": "stdout",
     "output_type": "stream",
     "text": [
      "Calculating Metrics ...\n"
     ]
    },
    {
     "name": "stderr",
     "output_type": "stream",
     "text": [
      "Calculate Acc. on Train Data: 100%|██████████| 170/170 [00:19<00:00,  8.61it/s]\n",
      "Calculate Acc. on Test Data: 100%|██████████| 19/19 [00:03<00:00,  6.02it/s]"
     ]
    },
    {
     "name": "stdout",
     "output_type": "stream",
     "text": [
      "==================== Fold 8 ====================\n"
     ]
    },
    {
     "name": "stderr",
     "output_type": "stream",
     "text": [
      "\n",
      "Epoch: 40/40 // Running Loss: 0.26 // Accuracy: 0.789 : 100%|██████████| 6800/6800 [13:23<00:00,  8.47it/s]   \n"
     ]
    },
    {
     "name": "stdout",
     "output_type": "stream",
     "text": [
      "Calculating Metrics ...\n"
     ]
    },
    {
     "name": "stderr",
     "output_type": "stream",
     "text": [
      "Calculate Acc. on Train Data: 100%|██████████| 170/170 [00:19<00:00,  8.69it/s]\n",
      "Calculate Acc. on Test Data: 100%|██████████| 19/19 [00:03<00:00,  6.09it/s]"
     ]
    },
    {
     "name": "stdout",
     "output_type": "stream",
     "text": [
      "==================== Fold 9 ====================\n"
     ]
    },
    {
     "name": "stderr",
     "output_type": "stream",
     "text": [
      "\n",
      "Epoch: 40/40 // Running Loss: 0.215 // Accuracy: 0.81 : 100%|██████████| 6800/6800 [13:25<00:00,  8.44it/s]   \n"
     ]
    },
    {
     "name": "stdout",
     "output_type": "stream",
     "text": [
      "Calculating Metrics ...\n"
     ]
    },
    {
     "name": "stderr",
     "output_type": "stream",
     "text": [
      "Calculate Acc. on Train Data: 100%|██████████| 170/170 [00:19<00:00,  8.72it/s]\n",
      "Calculate Acc. on Test Data: 100%|██████████| 19/19 [00:03<00:00,  5.93it/s]\n"
     ]
    }
   ],
   "source": [
    "metrics = train_network_kfold(model=batch_norm_model, train_data=train_data, test_data=test_data,\n",
    "                              criterion=criterion, optimizer=optimizer, n_epochs=40, k_folds=10, batch_sizes=150)"
   ]
  },
  {
   "cell_type": "code",
   "execution_count": 20,
   "metadata": {},
   "outputs": [],
   "source": [
    "save_file = False\n",
    "\n",
    "if save_file:\n",
    "    with open('./saved/batchnorm_metrics.pkl', 'wb') as pkl_file:\n",
    "        pickle.dump(metrics, pkl_file)"
   ]
  },
  {
   "cell_type": "code",
   "execution_count": 8,
   "metadata": {},
   "outputs": [
    {
     "name": "stdout",
     "output_type": "stream",
     "text": [
      "==================================================\n",
      "Trainable Parameters: 72756991\n",
      "==================================================\n"
     ]
    }
   ],
   "source": [
    "opt_model = FlatAlexNetOpt(n_classes=28)\n",
    "criterion = nn.CrossEntropyLoss()\n",
    "optimizer = optim.SGD(opt_model.parameters(),  lr=.008, momentum=.95)\n",
    "dtype = torch.float32\n",
    "print_total_params(opt_model)"
   ]
  },
  {
   "cell_type": "code",
   "execution_count": 24,
   "metadata": {},
   "outputs": [
    {
     "name": "stdout",
     "output_type": "stream",
     "text": [
      "==================== Fold 0 ====================\n"
     ]
    },
    {
     "name": "stderr",
     "output_type": "stream",
     "text": [
      "Epoch: 40/40 // Running Loss: 18.737 // Accuracy: 0.562 : 100%|██████████| 6800/6800 [13:18<00:00,  8.51it/s] \n"
     ]
    },
    {
     "name": "stdout",
     "output_type": "stream",
     "text": [
      "Calculating Metrics ...\n"
     ]
    },
    {
     "name": "stderr",
     "output_type": "stream",
     "text": [
      "Calculate Acc. on Train Data: 100%|██████████| 170/170 [00:20<00:00,  8.48it/s]\n",
      "Calculate Acc. on Test Data: 100%|██████████| 19/19 [00:03<00:00,  5.69it/s]"
     ]
    },
    {
     "name": "stdout",
     "output_type": "stream",
     "text": [
      "==================== Fold 1 ====================\n"
     ]
    },
    {
     "name": "stderr",
     "output_type": "stream",
     "text": [
      "\n",
      "Epoch: 40/40 // Running Loss: 18.192 // Accuracy: 0.552 : 100%|██████████| 6800/6800 [13:23<00:00,  8.47it/s] \n"
     ]
    },
    {
     "name": "stdout",
     "output_type": "stream",
     "text": [
      "Calculating Metrics ...\n"
     ]
    },
    {
     "name": "stderr",
     "output_type": "stream",
     "text": [
      "Calculate Acc. on Train Data: 100%|██████████| 170/170 [00:19<00:00,  8.78it/s]\n",
      "Calculate Acc. on Test Data: 100%|██████████| 19/19 [00:03<00:00,  5.83it/s]"
     ]
    },
    {
     "name": "stdout",
     "output_type": "stream",
     "text": [
      "==================== Fold 2 ====================\n"
     ]
    },
    {
     "name": "stderr",
     "output_type": "stream",
     "text": [
      "\n",
      "Epoch: 40/40 // Running Loss: 15.225 // Accuracy: 0.559 : 100%|██████████| 6800/6800 [13:27<00:00,  8.42it/s] \n"
     ]
    },
    {
     "name": "stdout",
     "output_type": "stream",
     "text": [
      "Calculating Metrics ...\n"
     ]
    },
    {
     "name": "stderr",
     "output_type": "stream",
     "text": [
      "Calculate Acc. on Train Data: 100%|██████████| 170/170 [00:19<00:00,  8.73it/s]\n",
      "Calculate Acc. on Test Data: 100%|██████████| 19/19 [00:03<00:00,  5.76it/s]"
     ]
    },
    {
     "name": "stdout",
     "output_type": "stream",
     "text": [
      "==================== Fold 3 ====================\n"
     ]
    },
    {
     "name": "stderr",
     "output_type": "stream",
     "text": [
      "\n",
      "Epoch: 40/40 // Running Loss: 20.078 // Accuracy: 0.546 : 100%|██████████| 6800/6800 [13:25<00:00,  8.44it/s] \n"
     ]
    },
    {
     "name": "stdout",
     "output_type": "stream",
     "text": [
      "Calculating Metrics ...\n"
     ]
    },
    {
     "name": "stderr",
     "output_type": "stream",
     "text": [
      "Calculate Acc. on Train Data: 100%|██████████| 170/170 [00:19<00:00,  8.52it/s]\n",
      "Calculate Acc. on Test Data: 100%|██████████| 19/19 [00:03<00:00,  5.85it/s]"
     ]
    },
    {
     "name": "stdout",
     "output_type": "stream",
     "text": [
      "==================== Fold 4 ====================\n"
     ]
    },
    {
     "name": "stderr",
     "output_type": "stream",
     "text": [
      "\n",
      "Epoch: 40/40 // Running Loss: 16.455 // Accuracy: 0.549 : 100%|██████████| 6800/6800 [13:26<00:00,  8.43it/s] \n"
     ]
    },
    {
     "name": "stdout",
     "output_type": "stream",
     "text": [
      "Calculating Metrics ...\n"
     ]
    },
    {
     "name": "stderr",
     "output_type": "stream",
     "text": [
      "Calculate Acc. on Train Data: 100%|██████████| 170/170 [00:19<00:00,  8.59it/s]\n",
      "Calculate Acc. on Test Data: 100%|██████████| 19/19 [00:03<00:00,  5.84it/s]"
     ]
    },
    {
     "name": "stdout",
     "output_type": "stream",
     "text": [
      "==================== Fold 5 ====================\n"
     ]
    },
    {
     "name": "stderr",
     "output_type": "stream",
     "text": [
      "\n",
      "Epoch: 40/40 // Running Loss: 20.522 // Accuracy: 0.555 : 100%|██████████| 6800/6800 [13:29<00:00,  8.40it/s] \n"
     ]
    },
    {
     "name": "stdout",
     "output_type": "stream",
     "text": [
      "Calculating Metrics ...\n"
     ]
    },
    {
     "name": "stderr",
     "output_type": "stream",
     "text": [
      "Calculate Acc. on Train Data: 100%|██████████| 170/170 [00:19<00:00,  8.62it/s]\n",
      "Calculate Acc. on Test Data: 100%|██████████| 19/19 [00:03<00:00,  5.82it/s]"
     ]
    },
    {
     "name": "stdout",
     "output_type": "stream",
     "text": [
      "==================== Fold 6 ====================\n"
     ]
    },
    {
     "name": "stderr",
     "output_type": "stream",
     "text": [
      "\n",
      "Epoch: 40/40 // Running Loss: 19.323 // Accuracy: 0.553 : 100%|██████████| 6800/6800 [13:28<00:00,  8.41it/s] \n"
     ]
    },
    {
     "name": "stdout",
     "output_type": "stream",
     "text": [
      "Calculating Metrics ...\n"
     ]
    },
    {
     "name": "stderr",
     "output_type": "stream",
     "text": [
      "Calculate Acc. on Train Data: 100%|██████████| 170/170 [00:19<00:00,  8.59it/s]\n",
      "Calculate Acc. on Test Data: 100%|██████████| 19/19 [00:03<00:00,  5.66it/s]"
     ]
    },
    {
     "name": "stdout",
     "output_type": "stream",
     "text": [
      "==================== Fold 7 ====================\n"
     ]
    },
    {
     "name": "stderr",
     "output_type": "stream",
     "text": [
      "\n",
      "Epoch: 40/40 // Running Loss: 15.384 // Accuracy: 0.558 : 100%|██████████| 6800/6800 [13:30<00:00,  8.39it/s] \n"
     ]
    },
    {
     "name": "stdout",
     "output_type": "stream",
     "text": [
      "Calculating Metrics ...\n"
     ]
    },
    {
     "name": "stderr",
     "output_type": "stream",
     "text": [
      "Calculate Acc. on Train Data: 100%|██████████| 170/170 [00:19<00:00,  8.65it/s]\n",
      "Calculate Acc. on Test Data: 100%|██████████| 19/19 [00:03<00:00,  5.99it/s]\n"
     ]
    },
    {
     "name": "stdout",
     "output_type": "stream",
     "text": [
      "==================== Fold 8 ====================\n"
     ]
    },
    {
     "name": "stderr",
     "output_type": "stream",
     "text": [
      "Epoch: 40/40 // Running Loss: 18.035 // Accuracy: 0.558 : 100%|██████████| 6800/6800 [13:26<00:00,  8.43it/s] \n"
     ]
    },
    {
     "name": "stdout",
     "output_type": "stream",
     "text": [
      "Calculating Metrics ...\n"
     ]
    },
    {
     "name": "stderr",
     "output_type": "stream",
     "text": [
      "Calculate Acc. on Train Data: 100%|██████████| 170/170 [00:19<00:00,  8.61it/s]\n",
      "Calculate Acc. on Test Data: 100%|██████████| 19/19 [00:03<00:00,  6.00it/s]"
     ]
    },
    {
     "name": "stdout",
     "output_type": "stream",
     "text": [
      "==================== Fold 9 ====================\n"
     ]
    },
    {
     "name": "stderr",
     "output_type": "stream",
     "text": [
      "\n",
      "Epoch: 40/40 // Running Loss: 19.854 // Accuracy: 0.558 : 100%|██████████| 6800/6800 [13:37<00:00,  8.32it/s] \n"
     ]
    },
    {
     "name": "stdout",
     "output_type": "stream",
     "text": [
      "Calculating Metrics ...\n"
     ]
    },
    {
     "name": "stderr",
     "output_type": "stream",
     "text": [
      "Calculate Acc. on Train Data: 100%|██████████| 170/170 [00:19<00:00,  8.60it/s]\n",
      "Calculate Acc. on Test Data: 100%|██████████| 19/19 [00:03<00:00,  5.84it/s]\n"
     ]
    }
   ],
   "source": [
    "metrics_opt = train_network_kfold(model=opt_model, train_data=train_data, test_data=test_data,\n",
    "                                  criterion=criterion, optimizer=optimizer, n_epochs=40, k_folds=10, \n",
    "                                  batch_sizes=150)"
   ]
  },
  {
   "cell_type": "code",
   "execution_count": 25,
   "metadata": {},
   "outputs": [],
   "source": [
    "if save_file:\n",
    "    with open('./saved/batchnorm_metrics_opt.pkl', 'wb') as pkl_file:\n",
    "        pickle.dump(metrics_opt, pkl_file)"
   ]
  },
  {
   "cell_type": "markdown",
   "metadata": {},
   "source": [
    "### Analyze Results"
   ]
  },
  {
   "cell_type": "code",
   "execution_count": 146,
   "metadata": {},
   "outputs": [],
   "source": [
    "with open('./saved/batchnorm_metrics.pkl', 'rb') as pkl_file:\n",
    "    metrics_batch = pickle.load(pkl_file)"
   ]
  },
  {
   "cell_type": "code",
   "execution_count": 147,
   "metadata": {},
   "outputs": [],
   "source": [
    "with open('./saved/batchnorm_metrics_opt.pkl', 'rb') as pkl_file:\n",
    "    metrics_opt = pickle.load(pkl_file)"
   ]
  },
  {
   "cell_type": "code",
   "execution_count": 148,
   "metadata": {},
   "outputs": [
    {
     "data": {
      "text/html": [
       "<div>\n",
       "<style scoped>\n",
       "    .dataframe tbody tr th:only-of-type {\n",
       "        vertical-align: middle;\n",
       "    }\n",
       "\n",
       "    .dataframe tbody tr th {\n",
       "        vertical-align: top;\n",
       "    }\n",
       "\n",
       "    .dataframe thead th {\n",
       "        text-align: right;\n",
       "    }\n",
       "</style>\n",
       "<table border=\"1\" class=\"dataframe\">\n",
       "  <thead>\n",
       "    <tr style=\"text-align: right;\">\n",
       "      <th></th>\n",
       "      <th>0</th>\n",
       "      <th>1</th>\n",
       "      <th>2</th>\n",
       "      <th>3</th>\n",
       "      <th>4</th>\n",
       "      <th>5</th>\n",
       "      <th>6</th>\n",
       "      <th>7</th>\n",
       "      <th>8</th>\n",
       "      <th>9</th>\n",
       "    </tr>\n",
       "  </thead>\n",
       "  <tbody>\n",
       "    <tr>\n",
       "      <th>0</th>\n",
       "      <td>3.419793</td>\n",
       "      <td>3.362413</td>\n",
       "      <td>3.327786</td>\n",
       "      <td>3.384193</td>\n",
       "      <td>3.380545</td>\n",
       "      <td>3.350433</td>\n",
       "      <td>3.369921</td>\n",
       "      <td>3.337568</td>\n",
       "      <td>3.367136</td>\n",
       "      <td>3.379411</td>\n",
       "    </tr>\n",
       "    <tr>\n",
       "      <th>1</th>\n",
       "      <td>3.344729</td>\n",
       "      <td>3.379970</td>\n",
       "      <td>3.347100</td>\n",
       "      <td>3.329983</td>\n",
       "      <td>3.397920</td>\n",
       "      <td>3.349971</td>\n",
       "      <td>3.322893</td>\n",
       "      <td>3.385277</td>\n",
       "      <td>3.375402</td>\n",
       "      <td>3.409222</td>\n",
       "    </tr>\n",
       "  </tbody>\n",
       "</table>\n",
       "</div>"
      ],
      "text/plain": [
       "          0         1         2         3         4         5         6  \\\n",
       "0  3.419793  3.362413  3.327786  3.384193  3.380545  3.350433  3.369921   \n",
       "1  3.344729  3.379970  3.347100  3.329983  3.397920  3.349971  3.322893   \n",
       "\n",
       "          7         8         9  \n",
       "0  3.337568  3.367136  3.379411  \n",
       "1  3.385277  3.375402  3.409222  "
      ]
     },
     "execution_count": 148,
     "metadata": {},
     "output_type": "execute_result"
    }
   ],
   "source": [
    "losses_batch = pd.DataFrame.from_dict(metrics_batch['losses'])\n",
    "losses_opt = pd.DataFrame.from_dict(metrics_opt['losses'])\n",
    "losses_batch.head(2)"
   ]
  },
  {
   "cell_type": "code",
   "execution_count": 150,
   "metadata": {},
   "outputs": [
    {
     "data": {
      "image/png": "[encoded data removed]",
      "text/plain": [
       "<Figure size 1296x360 with 2 Axes>"
      ]
     },
     "metadata": {},
     "output_type": "display_data"
    }
   ],
   "source": [
    "colors = sns.color_palette('Paired', 4)\n",
    "\n",
    "fig = plt.subplots(figsize=(18, 5))\n",
    "\n",
    "sma = 50\n",
    "\n",
    "plt.subplot(1,2,1)\n",
    "column_selection = list(losses_batch.columns)\n",
    "mean_loss_folds = losses_batch[column_selection].mean(axis=1)\n",
    "mean_loss_folds = mean_loss_folds.rolling(sma).mean()\n",
    "std_loss_folds = losses_batch[column_selection].std(axis=1)\n",
    "std_loss_folds = std_loss_folds.rolling(sma).mean()\n",
    "\n",
    "p = sns.lineplot(x=mean_loss_folds.index, y=mean_loss_folds, label='Mean Batch', color=colors[1])\n",
    "p = sns.lineplot(x=mean_loss_folds.index, y=mean_loss_folds + std_loss_folds, \n",
    "                 label=r'$\\pm1\\sigma$', color=colors[0], linestyle='--', alpha=.5)\n",
    "p = sns.lineplot(x=mean_loss_folds.index, y=mean_loss_folds - std_loss_folds, \n",
    "                 color=colors[0], linestyle='--', alpha=.5)\n",
    "p.set_title(f'Loss over Batches with Batchnorm / SMA{50}',loc='left')\n",
    "p.set_xlabel('Batches')\n",
    "p.set_ylabel('Cross-Entropy Loss')\n",
    "sns.despine(trim=True)\n",
    "\n",
    "plt.subplot(1,2,2)\n",
    "column_selection = list(losses_opt.columns)\n",
    "mean_loss_folds = losses_opt[column_selection].mean(axis=1)\n",
    "mean_loss_folds = mean_loss_folds.rolling(sma).mean()\n",
    "std_loss_folds = losses_batch[column_selection].std(axis=1)\n",
    "std_loss_folds = std_loss_folds.rolling(sma).mean()\n",
    "\n",
    "p = sns.lineplot(x=mean_loss_folds.index, y=mean_loss_folds, label='Mean Batch', \n",
    "                 color=colors[3])\n",
    "p = sns.lineplot(x=mean_loss_folds.index, y=mean_loss_folds + std_loss_folds, \n",
    "                 label=r'$\\pm1\\sigma$', color=colors[2], linestyle='--', alpha=.5)\n",
    "p = sns.lineplot(x=mean_loss_folds.index, y=mean_loss_folds - std_loss_folds,\n",
    "                 color=colors[2], linestyle='--', alpha=.5)\n",
    "p.set_title(f'Loss over Batches without Batchnorm / SMA{50}',loc='left')\n",
    "p.set_xlabel('Batches')\n",
    "#p.set_ylabel('Cross-Entropy Loss')\n",
    "sns.despine(trim=True)\n",
    "\n",
    "plt.show()"
   ]
  },
  {
   "cell_type": "markdown",
   "metadata": {},
   "source": [
    "-----------"
   ]
  },
  {
   "cell_type": "code",
   "execution_count": 135,
   "metadata": {},
   "outputs": [
    {
     "data": {
      "text/html": [
       "<div>\n",
       "<style scoped>\n",
       "    .dataframe tbody tr th:only-of-type {\n",
       "        vertical-align: middle;\n",
       "    }\n",
       "\n",
       "    .dataframe tbody tr th {\n",
       "        vertical-align: top;\n",
       "    }\n",
       "\n",
       "    .dataframe thead th {\n",
       "        text-align: right;\n",
       "    }\n",
       "</style>\n",
       "<table border=\"1\" class=\"dataframe\">\n",
       "  <thead>\n",
       "    <tr style=\"text-align: right;\">\n",
       "      <th></th>\n",
       "      <th>Accuracy</th>\n",
       "      <th>Precision</th>\n",
       "      <th>set</th>\n",
       "      <th>type</th>\n",
       "    </tr>\n",
       "  </thead>\n",
       "  <tbody>\n",
       "    <tr>\n",
       "      <th>0</th>\n",
       "      <td>0.975177</td>\n",
       "      <td>0.975736</td>\n",
       "      <td>train</td>\n",
       "      <td>no batch</td>\n",
       "    </tr>\n",
       "    <tr>\n",
       "      <th>1</th>\n",
       "      <td>0.232212</td>\n",
       "      <td>0.234917</td>\n",
       "      <td>test</td>\n",
       "      <td>no batch</td>\n",
       "    </tr>\n",
       "  </tbody>\n",
       "</table>\n",
       "</div>"
      ],
      "text/plain": [
       "   Accuracy Precision    set      type\n",
       "0  0.975177  0.975736  train  no batch\n",
       "1  0.232212  0.234917   test  no batch"
      ]
     },
     "execution_count": 135,
     "metadata": {},
     "output_type": "execute_result"
    }
   ],
   "source": [
    "nobatch = pd.DataFrame.from_records(metrics_opt['metrics']).T\n",
    "tmp = nobatch.explode('accuracy')['accuracy']\n",
    "nobatch = nobatch.explode('precision')['precision']\n",
    "nobatch = pd.concat([tmp, nobatch], axis=1, ignore_index=True)\n",
    "nobatch.columns = ['Accuracy', 'Precision']\n",
    "nobatch = nobatch.reset_index(drop=True)\n",
    "nobatch['set'] = ['train' if i%2==0 else 'test' for i in range(nobatch.shape[0])]\n",
    "nobatch['type'] = 'no batch'\n",
    "nobatch.head(2)"
   ]
  },
  {
   "cell_type": "code",
   "execution_count": 136,
   "metadata": {},
   "outputs": [
    {
     "data": {
      "text/html": [
       "<div>\n",
       "<style scoped>\n",
       "    .dataframe tbody tr th:only-of-type {\n",
       "        vertical-align: middle;\n",
       "    }\n",
       "\n",
       "    .dataframe tbody tr th {\n",
       "        vertical-align: top;\n",
       "    }\n",
       "\n",
       "    .dataframe thead th {\n",
       "        text-align: right;\n",
       "    }\n",
       "</style>\n",
       "<table border=\"1\" class=\"dataframe\">\n",
       "  <thead>\n",
       "    <tr style=\"text-align: right;\">\n",
       "      <th></th>\n",
       "      <th>Accuracy</th>\n",
       "      <th>Precision</th>\n",
       "      <th>set</th>\n",
       "      <th>type</th>\n",
       "    </tr>\n",
       "  </thead>\n",
       "  <tbody>\n",
       "    <tr>\n",
       "      <th>0</th>\n",
       "      <td>0.980488</td>\n",
       "      <td>0.980811</td>\n",
       "      <td>train</td>\n",
       "      <td>batch</td>\n",
       "    </tr>\n",
       "    <tr>\n",
       "      <th>1</th>\n",
       "      <td>0.201416</td>\n",
       "      <td>0.202579</td>\n",
       "      <td>test</td>\n",
       "      <td>batch</td>\n",
       "    </tr>\n",
       "  </tbody>\n",
       "</table>\n",
       "</div>"
      ],
      "text/plain": [
       "   Accuracy Precision    set   type\n",
       "0  0.980488  0.980811  train  batch\n",
       "1  0.201416  0.202579   test  batch"
      ]
     },
     "execution_count": 136,
     "metadata": {},
     "output_type": "execute_result"
    }
   ],
   "source": [
    "batch = pd.DataFrame.from_records(metrics_batch['metrics']).T\n",
    "tmp = batch.explode('accuracy')['accuracy']\n",
    "batch = batch.explode('precision')['precision']\n",
    "batch = pd.concat([tmp, batch], axis=1, ignore_index=True)\n",
    "batch.columns = ['Accuracy', 'Precision']\n",
    "batch = batch.reset_index(drop=True)\n",
    "batch['set'] = ['train' if i%2==0 else 'test' for i in range(batch.shape[0])]\n",
    "batch['type'] = 'batch'\n",
    "batch.head(2)"
   ]
  },
  {
   "cell_type": "code",
   "execution_count": 137,
   "metadata": {},
   "outputs": [
    {
     "data": {
      "text/html": [
       "<div>\n",
       "<style scoped>\n",
       "    .dataframe tbody tr th:only-of-type {\n",
       "        vertical-align: middle;\n",
       "    }\n",
       "\n",
       "    .dataframe tbody tr th {\n",
       "        vertical-align: top;\n",
       "    }\n",
       "\n",
       "    .dataframe thead th {\n",
       "        text-align: right;\n",
       "    }\n",
       "</style>\n",
       "<table border=\"1\" class=\"dataframe\">\n",
       "  <thead>\n",
       "    <tr style=\"text-align: right;\">\n",
       "      <th></th>\n",
       "      <th>Accuracy</th>\n",
       "      <th>Precision</th>\n",
       "      <th>set</th>\n",
       "      <th>type</th>\n",
       "    </tr>\n",
       "  </thead>\n",
       "  <tbody>\n",
       "    <tr>\n",
       "      <th>0</th>\n",
       "      <td>0.980488</td>\n",
       "      <td>0.980811</td>\n",
       "      <td>train</td>\n",
       "      <td>batch</td>\n",
       "    </tr>\n",
       "    <tr>\n",
       "      <th>1</th>\n",
       "      <td>0.201416</td>\n",
       "      <td>0.202579</td>\n",
       "      <td>test</td>\n",
       "      <td>batch</td>\n",
       "    </tr>\n",
       "  </tbody>\n",
       "</table>\n",
       "</div>"
      ],
      "text/plain": [
       "   Accuracy Precision    set   type\n",
       "0  0.980488  0.980811  train  batch\n",
       "1  0.201416  0.202579   test  batch"
      ]
     },
     "execution_count": 137,
     "metadata": {},
     "output_type": "execute_result"
    }
   ],
   "source": [
    "df = pd.concat([batch, nobatch], axis=0)\n",
    "df.head(2)"
   ]
  },
  {
   "cell_type": "code",
   "execution_count": 138,
   "metadata": {},
   "outputs": [
    {
     "data": {
      "text/html": [
       "<div>\n",
       "<style scoped>\n",
       "    .dataframe tbody tr th:only-of-type {\n",
       "        vertical-align: middle;\n",
       "    }\n",
       "\n",
       "    .dataframe tbody tr th {\n",
       "        vertical-align: top;\n",
       "    }\n",
       "\n",
       "    .dataframe thead th {\n",
       "        text-align: right;\n",
       "    }\n",
       "</style>\n",
       "<table border=\"1\" class=\"dataframe\">\n",
       "  <thead>\n",
       "    <tr style=\"text-align: right;\">\n",
       "      <th></th>\n",
       "      <th>set</th>\n",
       "      <th>type</th>\n",
       "      <th>metric</th>\n",
       "      <th>score</th>\n",
       "    </tr>\n",
       "  </thead>\n",
       "  <tbody>\n",
       "    <tr>\n",
       "      <th>0</th>\n",
       "      <td>train</td>\n",
       "      <td>batch</td>\n",
       "      <td>Accuracy</td>\n",
       "      <td>0.980488</td>\n",
       "    </tr>\n",
       "    <tr>\n",
       "      <th>1</th>\n",
       "      <td>test</td>\n",
       "      <td>batch</td>\n",
       "      <td>Accuracy</td>\n",
       "      <td>0.201416</td>\n",
       "    </tr>\n",
       "  </tbody>\n",
       "</table>\n",
       "</div>"
      ],
      "text/plain": [
       "     set   type    metric     score\n",
       "0  train  batch  Accuracy  0.980488\n",
       "1   test  batch  Accuracy  0.201416"
      ]
     },
     "execution_count": 138,
     "metadata": {},
     "output_type": "execute_result"
    }
   ],
   "source": [
    "df = df.reset_index(drop=True)\n",
    "df = df.melt(id_vars=['set', 'type'])\n",
    "df.columns = ['set', 'type','metric', 'score']\n",
    "df.head(2)"
   ]
  },
  {
   "cell_type": "code",
   "execution_count": 142,
   "metadata": {},
   "outputs": [
    {
     "data": {
      "image/png": "[encoded data removed]",
      "text/plain": [
       "<Figure size 1296x288 with 2 Axes>"
      ]
     },
     "metadata": {},
     "output_type": "display_data"
    }
   ],
   "source": [
    "fig = plt.subplots(figsize=(18, 4))\n",
    "\n",
    "sns.set_palette('Paired', 4)\n",
    "sns.set_style('whitegrid')\n",
    "plt.subplot(1,2,1)\n",
    "tmp = df[df['set'].str.contains('train')]\n",
    "p = sns.boxplot(data=tmp, x='metric', y='score', hue='type', width=.8)\n",
    "p.set_title('Error Estimation of Metrics on Trainset', loc='left')\n",
    "p.set_xlabel('')\n",
    "p.set_ylabel('Score')\n",
    "\n",
    "plt.subplot(1,2,2)\n",
    "tmp = df[df['set'].str.contains('test')]\n",
    "p = sns.boxplot(data=tmp, x='metric', y='score' , hue='type',width=.5)\n",
    "p.set_title('Error Estimation of Metrics on Testset', loc='left')\n",
    "#p.set_xticklabels(['Precision', 'Accuracy'])\n",
    "p.set_xlabel('')\n",
    "p.set_ylabel('Score')\n",
    "\n",
    "plt.show()"
   ]
  }
 ],
 "metadata": {
  "kernelspec": {
   "display_name": "Python 3",
   "language": "python",
   "name": "python3"
  },
  "language_info": {
   "codemirror_mode": {
    "name": "ipython",
    "version": 3
   },
   "file_extension": ".py",
   "mimetype": "text/x-python",
   "name": "python",
   "nbconvert_exporter": "python",
   "pygments_lexer": "ipython3",
   "version": "3.8.5"
  }
 },
 "nbformat": 4,
 "nbformat_minor": 5
}
